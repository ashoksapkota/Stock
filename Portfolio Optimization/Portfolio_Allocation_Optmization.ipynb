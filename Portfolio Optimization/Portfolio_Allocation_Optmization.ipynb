{
 "cells": [
  {
   "cell_type": "markdown",
   "metadata": {},
   "source": [
    "## Portfolio Allocation and Optimization: Monte Carlo Simulation and Optimization Algorithm"
   ]
  },
  {
   "cell_type": "markdown",
   "metadata": {},
   "source": [
    "Uptil now we were focused more on analysing and forcasting Stock prices for Individual Stocks. A trader or a Hedge fund manager can optimize their Trading strategies based on the forcast Buy/Sell signal. \n",
    "We will now act as a Portfolio Manager and try to build a Trading Strategy using Sharpe Ratio and Optimization to demonstrate how a Portfolio can be optimized for higher gains. \n",
    "\n",
    "### Sharpe Ratio\n",
    "\n",
    "The Sharpe ratio measures the performance of an investment compared to a risk-free asset, after adjusting for its risk. It is defined as the difference between the returns of the investment and the risk-free return, divided by the standard deviation of the investment. "
   ]
  },
  {
   "cell_type": "code",
   "execution_count": 68,
   "metadata": {},
   "outputs": [],
   "source": [
    "import pandas as pd\n",
    "import matplotlib.pyplot as plt\n",
    "from pylab import rcParams\n",
    "import numpy as np\n",
    "import seaborn as sns\n",
    "import os\n",
    "\n",
    "\n",
    "%matplotlib inline\n"
   ]
  },
  {
   "cell_type": "code",
   "execution_count": 69,
   "metadata": {},
   "outputs": [],
   "source": [
    "os.chdir(r'C:\\Users\\ashok\\Desktop\\SPPO\\Streamlit Web App\\Stock Data')"
   ]
  },
  {
   "cell_type": "code",
   "execution_count": 70,
   "metadata": {},
   "outputs": [
    {
     "data": {
      "text/html": [
       "<div>\n",
       "<style scoped>\n",
       "    .dataframe tbody tr th:only-of-type {\n",
       "        vertical-align: middle;\n",
       "    }\n",
       "\n",
       "    .dataframe tbody tr th {\n",
       "        vertical-align: top;\n",
       "    }\n",
       "\n",
       "    .dataframe thead th {\n",
       "        text-align: right;\n",
       "    }\n",
       "</style>\n",
       "<table border=\"1\" class=\"dataframe\">\n",
       "  <thead>\n",
       "    <tr style=\"text-align: right;\">\n",
       "      <th></th>\n",
       "      <th>Close</th>\n",
       "    </tr>\n",
       "    <tr>\n",
       "      <th>Date</th>\n",
       "      <th></th>\n",
       "    </tr>\n",
       "  </thead>\n",
       "  <tbody>\n",
       "    <tr>\n",
       "      <th>2019-09-13</th>\n",
       "      <td>216.60</td>\n",
       "    </tr>\n",
       "    <tr>\n",
       "      <th>2019-09-16</th>\n",
       "      <td>217.74</td>\n",
       "    </tr>\n",
       "    <tr>\n",
       "      <th>2019-09-17</th>\n",
       "      <td>218.53</td>\n",
       "    </tr>\n",
       "    <tr>\n",
       "      <th>2019-09-18</th>\n",
       "      <td>220.58</td>\n",
       "    </tr>\n",
       "    <tr>\n",
       "      <th>2019-09-19</th>\n",
       "      <td>218.79</td>\n",
       "    </tr>\n",
       "    <tr>\n",
       "      <th>...</th>\n",
       "      <td>...</td>\n",
       "    </tr>\n",
       "    <tr>\n",
       "      <th>2020-05-13</th>\n",
       "      <td>307.10</td>\n",
       "    </tr>\n",
       "    <tr>\n",
       "      <th>2020-05-14</th>\n",
       "      <td>308.98</td>\n",
       "    </tr>\n",
       "    <tr>\n",
       "      <th>2020-05-15</th>\n",
       "      <td>307.16</td>\n",
       "    </tr>\n",
       "    <tr>\n",
       "      <th>2020-05-18</th>\n",
       "      <td>314.39</td>\n",
       "    </tr>\n",
       "    <tr>\n",
       "      <th>2020-05-19</th>\n",
       "      <td>312.58</td>\n",
       "    </tr>\n",
       "  </tbody>\n",
       "</table>\n",
       "<p>172 rows × 1 columns</p>\n",
       "</div>"
      ],
      "text/plain": [
       "             Close\n",
       "Date              \n",
       "2019-09-13  216.60\n",
       "2019-09-16  217.74\n",
       "2019-09-17  218.53\n",
       "2019-09-18  220.58\n",
       "2019-09-19  218.79\n",
       "...            ...\n",
       "2020-05-13  307.10\n",
       "2020-05-14  308.98\n",
       "2020-05-15  307.16\n",
       "2020-05-18  314.39\n",
       "2020-05-19  312.58\n",
       "\n",
       "[172 rows x 1 columns]"
      ]
     },
     "execution_count": 70,
     "metadata": {},
     "output_type": "execute_result"
    }
   ],
   "source": [
    "aapl = pd.read_csv('AAPL.csv')\n",
    "#best features\n",
    "features_selected = ['Date','Close(t)']\n",
    "aapl = aapl[features_selected]\n",
    "aapl = aapl.iloc[3500:-60, :]\n",
    "aapl = aapl.rename(columns={'Close(t)':'Close'})\n",
    "aapl = aapl.set_index('Date')\n",
    "aapl"
   ]
  },
  {
   "cell_type": "code",
   "execution_count": 71,
   "metadata": {},
   "outputs": [
    {
     "data": {
      "text/html": [
       "<div>\n",
       "<style scoped>\n",
       "    .dataframe tbody tr th:only-of-type {\n",
       "        vertical-align: middle;\n",
       "    }\n",
       "\n",
       "    .dataframe tbody tr th {\n",
       "        vertical-align: top;\n",
       "    }\n",
       "\n",
       "    .dataframe thead th {\n",
       "        text-align: right;\n",
       "    }\n",
       "</style>\n",
       "<table border=\"1\" class=\"dataframe\">\n",
       "  <thead>\n",
       "    <tr style=\"text-align: right;\">\n",
       "      <th></th>\n",
       "      <th>Close</th>\n",
       "    </tr>\n",
       "    <tr>\n",
       "      <th>Date</th>\n",
       "      <th></th>\n",
       "    </tr>\n",
       "  </thead>\n",
       "  <tbody>\n",
       "    <tr>\n",
       "      <th>2019-09-13</th>\n",
       "      <td>216.60</td>\n",
       "    </tr>\n",
       "    <tr>\n",
       "      <th>2019-09-16</th>\n",
       "      <td>217.74</td>\n",
       "    </tr>\n",
       "    <tr>\n",
       "      <th>2019-09-17</th>\n",
       "      <td>218.53</td>\n",
       "    </tr>\n",
       "    <tr>\n",
       "      <th>2019-09-18</th>\n",
       "      <td>220.58</td>\n",
       "    </tr>\n",
       "    <tr>\n",
       "      <th>2019-09-19</th>\n",
       "      <td>218.79</td>\n",
       "    </tr>\n",
       "  </tbody>\n",
       "</table>\n",
       "</div>"
      ],
      "text/plain": [
       "             Close\n",
       "Date              \n",
       "2019-09-13  216.60\n",
       "2019-09-16  217.74\n",
       "2019-09-17  218.53\n",
       "2019-09-18  220.58\n",
       "2019-09-19  218.79"
      ]
     },
     "execution_count": 71,
     "metadata": {},
     "output_type": "execute_result"
    }
   ],
   "source": [
    "aapl.head()"
   ]
  },
  {
   "cell_type": "code",
   "execution_count": 72,
   "metadata": {},
   "outputs": [
    {
     "data": {
      "image/png": "[encoded data removed]",
      "text/plain": [
       "<Figure size 640x480 with 1 Axes>"
      ]
     },
     "metadata": {},
     "output_type": "display_data"
    }
   ],
   "source": [
    "from matplotlib import pyplot as plt\n",
    "plt.figure()\n",
    "plt.plot(aapl[\"Close\"])\n",
    "plt.title('APPLE stock price history')\n",
    "plt.ylabel('Price (USD)')\n",
    "plt.xlabel('Days')\n",
    "plt.legend(['Close'], loc='upper left')\n",
    "plt.show()"
   ]
  },
  {
   "cell_type": "markdown",
   "metadata": {},
   "source": [
    "### Lets get the Stock prices for 3 more stocks (Coka cola , Goldman Sachs and Johnsons & Johnsons) "
   ]
  },
  {
   "cell_type": "code",
   "execution_count": 73,
   "metadata": {},
   "outputs": [
    {
     "data": {
      "text/html": [
       "<div>\n",
       "<style scoped>\n",
       "    .dataframe tbody tr th:only-of-type {\n",
       "        vertical-align: middle;\n",
       "    }\n",
       "\n",
       "    .dataframe tbody tr th {\n",
       "        vertical-align: top;\n",
       "    }\n",
       "\n",
       "    .dataframe thead th {\n",
       "        text-align: right;\n",
       "    }\n",
       "</style>\n",
       "<table border=\"1\" class=\"dataframe\">\n",
       "  <thead>\n",
       "    <tr style=\"text-align: right;\">\n",
       "      <th></th>\n",
       "      <th>Close</th>\n",
       "    </tr>\n",
       "    <tr>\n",
       "      <th>Date</th>\n",
       "      <th></th>\n",
       "    </tr>\n",
       "  </thead>\n",
       "  <tbody>\n",
       "    <tr>\n",
       "      <th>2014-09-17</th>\n",
       "      <td>50.85</td>\n",
       "    </tr>\n",
       "    <tr>\n",
       "      <th>2014-09-18</th>\n",
       "      <td>51.70</td>\n",
       "    </tr>\n",
       "    <tr>\n",
       "      <th>2014-09-19</th>\n",
       "      <td>51.52</td>\n",
       "    </tr>\n",
       "    <tr>\n",
       "      <th>2014-09-22</th>\n",
       "      <td>51.35</td>\n",
       "    </tr>\n",
       "    <tr>\n",
       "      <th>2014-09-23</th>\n",
       "      <td>51.38</td>\n",
       "    </tr>\n",
       "    <tr>\n",
       "      <th>...</th>\n",
       "      <td>...</td>\n",
       "    </tr>\n",
       "    <tr>\n",
       "      <th>2020-05-13</th>\n",
       "      <td>83.22</td>\n",
       "    </tr>\n",
       "    <tr>\n",
       "      <th>2020-05-14</th>\n",
       "      <td>86.68</td>\n",
       "    </tr>\n",
       "    <tr>\n",
       "      <th>2020-05-15</th>\n",
       "      <td>85.07</td>\n",
       "    </tr>\n",
       "    <tr>\n",
       "      <th>2020-05-18</th>\n",
       "      <td>89.58</td>\n",
       "    </tr>\n",
       "    <tr>\n",
       "      <th>2020-05-19</th>\n",
       "      <td>87.81</td>\n",
       "    </tr>\n",
       "  </tbody>\n",
       "</table>\n",
       "<p>1428 rows × 1 columns</p>\n",
       "</div>"
      ],
      "text/plain": [
       "            Close\n",
       "Date             \n",
       "2014-09-17  50.85\n",
       "2014-09-18  51.70\n",
       "2014-09-19  51.52\n",
       "2014-09-22  51.35\n",
       "2014-09-23  51.38\n",
       "...           ...\n",
       "2020-05-13  83.22\n",
       "2020-05-14  86.68\n",
       "2020-05-15  85.07\n",
       "2020-05-18  89.58\n",
       "2020-05-19  87.81\n",
       "\n",
       "[1428 rows x 1 columns]"
      ]
     },
     "execution_count": 73,
     "metadata": {},
     "output_type": "execute_result"
    }
   ],
   "source": [
    "jpm = pd.read_csv('JPM.csv')\n",
    "#best features\n",
    "features_selected = ['Date','Close(t)']\n",
    "jpm = jpm[features_selected]\n",
    "jpm = jpm.iloc[3500:-60, :]\n",
    "jpm = jpm.rename(columns={'Close(t)':'Close'})\n",
    "jpm = jpm.set_index('Date')\n",
    "jpm"
   ]
  },
  {
   "cell_type": "code",
   "execution_count": 74,
   "metadata": {},
   "outputs": [],
   "source": [
    "ge = pd.read_csv('GE.csv')\n",
    "#best features\n",
    "features_selected = ['Date','Close(t)']\n",
    "ge = ge[features_selected]\n",
    "ge = ge.iloc[3500:-60, :]\n",
    "ge = ge.rename(columns={'Close(t)':'Close'})\n",
    "ge = ge.set_index('Date')\n",
    "ge\n",
    "\n",
    "\n",
    "msft = pd.read_csv('MSFT.csv')\n",
    "#best features\n",
    "features_selected = ['Date','Close(t)']\n",
    "msft = msft[features_selected]\n",
    "msft = msft.iloc[3500:-60, :]\n",
    "msft = msft.rename(columns={'Close(t)':'Close'})\n",
    "msft = msft.set_index('Date')\n",
    "msft\n",
    "\n",
    "\n",
    "jpm = pd.read_csv('JPM.csv')\n",
    "#best features\n",
    "features_selected = ['Date','Close(t)']\n",
    "jpm = jpm[features_selected]\n",
    "jpm = jpm.iloc[3500:-60, :]\n",
    "jpm = jpm.rename(columns={'Close(t)':'Close'})\n",
    "jpm = jpm.set_index('Date')"
   ]
  },
  {
   "cell_type": "code",
   "execution_count": 75,
   "metadata": {},
   "outputs": [
    {
     "data": {
      "text/html": [
       "<div>\n",
       "<style scoped>\n",
       "    .dataframe tbody tr th:only-of-type {\n",
       "        vertical-align: middle;\n",
       "    }\n",
       "\n",
       "    .dataframe tbody tr th {\n",
       "        vertical-align: top;\n",
       "    }\n",
       "\n",
       "    .dataframe thead th {\n",
       "        text-align: right;\n",
       "    }\n",
       "</style>\n",
       "<table border=\"1\" class=\"dataframe\">\n",
       "  <thead>\n",
       "    <tr style=\"text-align: right;\">\n",
       "      <th></th>\n",
       "      <th>Close</th>\n",
       "    </tr>\n",
       "    <tr>\n",
       "      <th>Date</th>\n",
       "      <th></th>\n",
       "    </tr>\n",
       "  </thead>\n",
       "  <tbody>\n",
       "    <tr>\n",
       "      <th>2014-09-17</th>\n",
       "      <td>50.85</td>\n",
       "    </tr>\n",
       "    <tr>\n",
       "      <th>2014-09-18</th>\n",
       "      <td>51.70</td>\n",
       "    </tr>\n",
       "    <tr>\n",
       "      <th>2014-09-19</th>\n",
       "      <td>51.52</td>\n",
       "    </tr>\n",
       "    <tr>\n",
       "      <th>2014-09-22</th>\n",
       "      <td>51.35</td>\n",
       "    </tr>\n",
       "    <tr>\n",
       "      <th>2014-09-23</th>\n",
       "      <td>51.38</td>\n",
       "    </tr>\n",
       "  </tbody>\n",
       "</table>\n",
       "</div>"
      ],
      "text/plain": [
       "            Close\n",
       "Date             \n",
       "2014-09-17  50.85\n",
       "2014-09-18  51.70\n",
       "2014-09-19  51.52\n",
       "2014-09-22  51.35\n",
       "2014-09-23  51.38"
      ]
     },
     "execution_count": 75,
     "metadata": {},
     "output_type": "execute_result"
    }
   ],
   "source": [
    "jpm.head()"
   ]
  },
  {
   "cell_type": "code",
   "execution_count": 76,
   "metadata": {},
   "outputs": [],
   "source": [
    "for stock_df in (aapl, jpm, ge, msft): \n",
    "    stock_df['Normed Return'] = stock_df['Close'] /stock_df.iloc[0]['Close']"
   ]
  },
  {
   "cell_type": "markdown",
   "metadata": {},
   "source": [
    "### Normalized returns "
   ]
  },
  {
   "cell_type": "code",
   "execution_count": 77,
   "metadata": {},
   "outputs": [
    {
     "data": {
      "text/html": [
       "<div>\n",
       "<style scoped>\n",
       "    .dataframe tbody tr th:only-of-type {\n",
       "        vertical-align: middle;\n",
       "    }\n",
       "\n",
       "    .dataframe tbody tr th {\n",
       "        vertical-align: top;\n",
       "    }\n",
       "\n",
       "    .dataframe thead th {\n",
       "        text-align: right;\n",
       "    }\n",
       "</style>\n",
       "<table border=\"1\" class=\"dataframe\">\n",
       "  <thead>\n",
       "    <tr style=\"text-align: right;\">\n",
       "      <th></th>\n",
       "      <th>Close</th>\n",
       "      <th>Normed Return</th>\n",
       "    </tr>\n",
       "    <tr>\n",
       "      <th>Date</th>\n",
       "      <th></th>\n",
       "      <th></th>\n",
       "    </tr>\n",
       "  </thead>\n",
       "  <tbody>\n",
       "    <tr>\n",
       "      <th>2019-09-13</th>\n",
       "      <td>136.10</td>\n",
       "      <td>1.000000</td>\n",
       "    </tr>\n",
       "    <tr>\n",
       "      <th>2019-09-16</th>\n",
       "      <td>135.12</td>\n",
       "      <td>0.992799</td>\n",
       "    </tr>\n",
       "    <tr>\n",
       "      <th>2019-09-17</th>\n",
       "      <td>136.17</td>\n",
       "      <td>1.000514</td>\n",
       "    </tr>\n",
       "    <tr>\n",
       "      <th>2019-09-18</th>\n",
       "      <td>137.29</td>\n",
       "      <td>1.008744</td>\n",
       "    </tr>\n",
       "    <tr>\n",
       "      <th>2019-09-19</th>\n",
       "      <td>139.82</td>\n",
       "      <td>1.027333</td>\n",
       "    </tr>\n",
       "  </tbody>\n",
       "</table>\n",
       "</div>"
      ],
      "text/plain": [
       "             Close  Normed Return\n",
       "Date                             \n",
       "2019-09-13  136.10       1.000000\n",
       "2019-09-16  135.12       0.992799\n",
       "2019-09-17  136.17       1.000514\n",
       "2019-09-18  137.29       1.008744\n",
       "2019-09-19  139.82       1.027333"
      ]
     },
     "execution_count": 77,
     "metadata": {},
     "output_type": "execute_result"
    }
   ],
   "source": [
    "msft.head()"
   ]
  },
  {
   "cell_type": "code",
   "execution_count": 78,
   "metadata": {},
   "outputs": [
    {
     "data": {
      "text/html": [
       "<div>\n",
       "<style scoped>\n",
       "    .dataframe tbody tr th:only-of-type {\n",
       "        vertical-align: middle;\n",
       "    }\n",
       "\n",
       "    .dataframe tbody tr th {\n",
       "        vertical-align: top;\n",
       "    }\n",
       "\n",
       "    .dataframe thead th {\n",
       "        text-align: right;\n",
       "    }\n",
       "</style>\n",
       "<table border=\"1\" class=\"dataframe\">\n",
       "  <thead>\n",
       "    <tr style=\"text-align: right;\">\n",
       "      <th></th>\n",
       "      <th>Close</th>\n",
       "      <th>Normed Return</th>\n",
       "    </tr>\n",
       "    <tr>\n",
       "      <th>Date</th>\n",
       "      <th></th>\n",
       "      <th></th>\n",
       "    </tr>\n",
       "  </thead>\n",
       "  <tbody>\n",
       "    <tr>\n",
       "      <th>2014-09-17</th>\n",
       "      <td>50.85</td>\n",
       "      <td>1.000000</td>\n",
       "    </tr>\n",
       "    <tr>\n",
       "      <th>2014-09-18</th>\n",
       "      <td>51.70</td>\n",
       "      <td>1.016716</td>\n",
       "    </tr>\n",
       "    <tr>\n",
       "      <th>2014-09-19</th>\n",
       "      <td>51.52</td>\n",
       "      <td>1.013176</td>\n",
       "    </tr>\n",
       "    <tr>\n",
       "      <th>2014-09-22</th>\n",
       "      <td>51.35</td>\n",
       "      <td>1.009833</td>\n",
       "    </tr>\n",
       "    <tr>\n",
       "      <th>2014-09-23</th>\n",
       "      <td>51.38</td>\n",
       "      <td>1.010423</td>\n",
       "    </tr>\n",
       "  </tbody>\n",
       "</table>\n",
       "</div>"
      ],
      "text/plain": [
       "            Close  Normed Return\n",
       "Date                            \n",
       "2014-09-17  50.85       1.000000\n",
       "2014-09-18  51.70       1.016716\n",
       "2014-09-19  51.52       1.013176\n",
       "2014-09-22  51.35       1.009833\n",
       "2014-09-23  51.38       1.010423"
      ]
     },
     "execution_count": 78,
     "metadata": {},
     "output_type": "execute_result"
    }
   ],
   "source": [
    "jpm.head()"
   ]
  },
  {
   "cell_type": "markdown",
   "metadata": {},
   "source": [
    "### Portfolio Allocation"
   ]
  },
  {
   "cell_type": "markdown",
   "metadata": {},
   "source": [
    "Let take the starting Portfolio Allocations consisting of these 4 stocks as - \n",
    "\n",
    "- 25% in AAPL\n",
    "- 10% in JPM\n",
    "- 30% in MSFT\n",
    "- 35% in GE"
   ]
  },
  {
   "cell_type": "code",
   "execution_count": 79,
   "metadata": {},
   "outputs": [],
   "source": [
    "for stock_df, allo in zip((aapl, jpm, msft, ge),[.25,.1,.3,.35]):\n",
    "    stock_df['Allocation'] = stock_df['Normed Return']*allo"
   ]
  },
  {
   "cell_type": "code",
   "execution_count": 80,
   "metadata": {},
   "outputs": [
    {
     "data": {
      "text/html": [
       "<div>\n",
       "<style scoped>\n",
       "    .dataframe tbody tr th:only-of-type {\n",
       "        vertical-align: middle;\n",
       "    }\n",
       "\n",
       "    .dataframe tbody tr th {\n",
       "        vertical-align: top;\n",
       "    }\n",
       "\n",
       "    .dataframe thead th {\n",
       "        text-align: right;\n",
       "    }\n",
       "</style>\n",
       "<table border=\"1\" class=\"dataframe\">\n",
       "  <thead>\n",
       "    <tr style=\"text-align: right;\">\n",
       "      <th></th>\n",
       "      <th>Close</th>\n",
       "      <th>Normed Return</th>\n",
       "      <th>Allocation</th>\n",
       "    </tr>\n",
       "    <tr>\n",
       "      <th>Date</th>\n",
       "      <th></th>\n",
       "      <th></th>\n",
       "      <th></th>\n",
       "    </tr>\n",
       "  </thead>\n",
       "  <tbody>\n",
       "    <tr>\n",
       "      <th>2019-09-13</th>\n",
       "      <td>216.60</td>\n",
       "      <td>1.000000</td>\n",
       "      <td>0.250000</td>\n",
       "    </tr>\n",
       "    <tr>\n",
       "      <th>2019-09-16</th>\n",
       "      <td>217.74</td>\n",
       "      <td>1.005263</td>\n",
       "      <td>0.251316</td>\n",
       "    </tr>\n",
       "    <tr>\n",
       "      <th>2019-09-17</th>\n",
       "      <td>218.53</td>\n",
       "      <td>1.008910</td>\n",
       "      <td>0.252228</td>\n",
       "    </tr>\n",
       "    <tr>\n",
       "      <th>2019-09-18</th>\n",
       "      <td>220.58</td>\n",
       "      <td>1.018375</td>\n",
       "      <td>0.254594</td>\n",
       "    </tr>\n",
       "    <tr>\n",
       "      <th>2019-09-19</th>\n",
       "      <td>218.79</td>\n",
       "      <td>1.010111</td>\n",
       "      <td>0.252528</td>\n",
       "    </tr>\n",
       "  </tbody>\n",
       "</table>\n",
       "</div>"
      ],
      "text/plain": [
       "             Close  Normed Return  Allocation\n",
       "Date                                         \n",
       "2019-09-13  216.60       1.000000    0.250000\n",
       "2019-09-16  217.74       1.005263    0.251316\n",
       "2019-09-17  218.53       1.008910    0.252228\n",
       "2019-09-18  220.58       1.018375    0.254594\n",
       "2019-09-19  218.79       1.010111    0.252528"
      ]
     },
     "execution_count": 80,
     "metadata": {},
     "output_type": "execute_result"
    }
   ],
   "source": [
    "aapl.head()"
   ]
  },
  {
   "cell_type": "markdown",
   "metadata": {},
   "source": [
    " Assuming the starting portfolio Position of 1 million $, lets look at how the value of our position changes in each stock"
   ]
  },
  {
   "cell_type": "code",
   "execution_count": 81,
   "metadata": {},
   "outputs": [],
   "source": [
    "# value of each position\n",
    "for stock_df in (aapl, jpm, msft, ge):\n",
    "    stock_df['Position Value'] = stock_df['Allocation']*1000000"
   ]
  },
  {
   "cell_type": "code",
   "execution_count": 82,
   "metadata": {},
   "outputs": [
    {
     "data": {
      "text/html": [
       "<div>\n",
       "<style scoped>\n",
       "    .dataframe tbody tr th:only-of-type {\n",
       "        vertical-align: middle;\n",
       "    }\n",
       "\n",
       "    .dataframe tbody tr th {\n",
       "        vertical-align: top;\n",
       "    }\n",
       "\n",
       "    .dataframe thead th {\n",
       "        text-align: right;\n",
       "    }\n",
       "</style>\n",
       "<table border=\"1\" class=\"dataframe\">\n",
       "  <thead>\n",
       "    <tr style=\"text-align: right;\">\n",
       "      <th></th>\n",
       "      <th>Close</th>\n",
       "      <th>Normed Return</th>\n",
       "      <th>Allocation</th>\n",
       "      <th>Position Value</th>\n",
       "    </tr>\n",
       "    <tr>\n",
       "      <th>Date</th>\n",
       "      <th></th>\n",
       "      <th></th>\n",
       "      <th></th>\n",
       "      <th></th>\n",
       "    </tr>\n",
       "  </thead>\n",
       "  <tbody>\n",
       "    <tr>\n",
       "      <th>2014-09-17</th>\n",
       "      <td>21.28</td>\n",
       "      <td>1.000000</td>\n",
       "      <td>0.350000</td>\n",
       "      <td>350000.000000</td>\n",
       "    </tr>\n",
       "    <tr>\n",
       "      <th>2014-09-18</th>\n",
       "      <td>21.41</td>\n",
       "      <td>1.006109</td>\n",
       "      <td>0.352138</td>\n",
       "      <td>352138.157895</td>\n",
       "    </tr>\n",
       "    <tr>\n",
       "      <th>2014-09-19</th>\n",
       "      <td>21.48</td>\n",
       "      <td>1.009398</td>\n",
       "      <td>0.353289</td>\n",
       "      <td>353289.473684</td>\n",
       "    </tr>\n",
       "    <tr>\n",
       "      <th>2014-09-22</th>\n",
       "      <td>21.31</td>\n",
       "      <td>1.001410</td>\n",
       "      <td>0.350493</td>\n",
       "      <td>350493.421053</td>\n",
       "    </tr>\n",
       "    <tr>\n",
       "      <th>2014-09-23</th>\n",
       "      <td>21.26</td>\n",
       "      <td>0.999060</td>\n",
       "      <td>0.349671</td>\n",
       "      <td>349671.052632</td>\n",
       "    </tr>\n",
       "    <tr>\n",
       "      <th>2014-09-24</th>\n",
       "      <td>21.18</td>\n",
       "      <td>0.995301</td>\n",
       "      <td>0.348355</td>\n",
       "      <td>348355.263158</td>\n",
       "    </tr>\n",
       "    <tr>\n",
       "      <th>2014-09-25</th>\n",
       "      <td>20.87</td>\n",
       "      <td>0.980733</td>\n",
       "      <td>0.343257</td>\n",
       "      <td>343256.578947</td>\n",
       "    </tr>\n",
       "    <tr>\n",
       "      <th>2014-09-26</th>\n",
       "      <td>20.94</td>\n",
       "      <td>0.984023</td>\n",
       "      <td>0.344408</td>\n",
       "      <td>344407.894737</td>\n",
       "    </tr>\n",
       "    <tr>\n",
       "      <th>2014-09-29</th>\n",
       "      <td>20.77</td>\n",
       "      <td>0.976034</td>\n",
       "      <td>0.341612</td>\n",
       "      <td>341611.842105</td>\n",
       "    </tr>\n",
       "    <tr>\n",
       "      <th>2014-09-30</th>\n",
       "      <td>20.93</td>\n",
       "      <td>0.983553</td>\n",
       "      <td>0.344243</td>\n",
       "      <td>344243.421053</td>\n",
       "    </tr>\n",
       "  </tbody>\n",
       "</table>\n",
       "</div>"
      ],
      "text/plain": [
       "            Close  Normed Return  Allocation  Position Value\n",
       "Date                                                        \n",
       "2014-09-17  21.28       1.000000    0.350000   350000.000000\n",
       "2014-09-18  21.41       1.006109    0.352138   352138.157895\n",
       "2014-09-19  21.48       1.009398    0.353289   353289.473684\n",
       "2014-09-22  21.31       1.001410    0.350493   350493.421053\n",
       "2014-09-23  21.26       0.999060    0.349671   349671.052632\n",
       "2014-09-24  21.18       0.995301    0.348355   348355.263158\n",
       "2014-09-25  20.87       0.980733    0.343257   343256.578947\n",
       "2014-09-26  20.94       0.984023    0.344408   344407.894737\n",
       "2014-09-29  20.77       0.976034    0.341612   341611.842105\n",
       "2014-09-30  20.93       0.983553    0.344243   344243.421053"
      ]
     },
     "execution_count": 82,
     "metadata": {},
     "output_type": "execute_result"
    }
   ],
   "source": [
    "ge.head(10)"
   ]
  },
  {
   "cell_type": "markdown",
   "metadata": {},
   "source": [
    "You can see how the value in increasing. Lets create a single dataframe for all of the 4 stocks"
   ]
  },
  {
   "cell_type": "code",
   "execution_count": 83,
   "metadata": {},
   "outputs": [],
   "source": [
    "# create list of all position values\n",
    "all_pos_vals = [aapl['Position Value'], jpm['Position Value'], msft['Position Value'], ge['Position Value']]\n",
    "\n",
    "# concatenate the list of position values\n",
    "portfolio_val = pd.concat(all_pos_vals, axis=1)\n",
    "\n",
    "# set the column names\n",
    "portfolio_val.columns = ['AAPL', 'JPM', 'MSFT','GE']\n",
    "\n",
    "# add a total portfolio column\n",
    "portfolio_val['Total'] = portfolio_val.sum(axis=1)"
   ]
  },
  {
   "cell_type": "code",
   "execution_count": 84,
   "metadata": {},
   "outputs": [
    {
     "data": {
      "text/html": [
       "<div>\n",
       "<style scoped>\n",
       "    .dataframe tbody tr th:only-of-type {\n",
       "        vertical-align: middle;\n",
       "    }\n",
       "\n",
       "    .dataframe tbody tr th {\n",
       "        vertical-align: top;\n",
       "    }\n",
       "\n",
       "    .dataframe thead th {\n",
       "        text-align: right;\n",
       "    }\n",
       "</style>\n",
       "<table border=\"1\" class=\"dataframe\">\n",
       "  <thead>\n",
       "    <tr style=\"text-align: right;\">\n",
       "      <th></th>\n",
       "      <th>AAPL</th>\n",
       "      <th>JPM</th>\n",
       "      <th>MSFT</th>\n",
       "      <th>GE</th>\n",
       "      <th>Total</th>\n",
       "    </tr>\n",
       "    <tr>\n",
       "      <th>Date</th>\n",
       "      <th></th>\n",
       "      <th></th>\n",
       "      <th></th>\n",
       "      <th></th>\n",
       "      <th></th>\n",
       "    </tr>\n",
       "  </thead>\n",
       "  <tbody>\n",
       "    <tr>\n",
       "      <th>2019-09-13</th>\n",
       "      <td>250000.000000</td>\n",
       "      <td>228436.578171</td>\n",
       "      <td>300000.000000</td>\n",
       "      <td>153125.000000</td>\n",
       "      <td>931561.578171</td>\n",
       "    </tr>\n",
       "    <tr>\n",
       "      <th>2019-09-16</th>\n",
       "      <td>251315.789474</td>\n",
       "      <td>226411.012783</td>\n",
       "      <td>297839.823659</td>\n",
       "      <td>153782.894737</td>\n",
       "      <td>929349.520652</td>\n",
       "    </tr>\n",
       "    <tr>\n",
       "      <th>2019-09-17</th>\n",
       "      <td>252227.608495</td>\n",
       "      <td>225290.068830</td>\n",
       "      <td>300154.298310</td>\n",
       "      <td>153453.947368</td>\n",
       "      <td>931125.923003</td>\n",
       "    </tr>\n",
       "    <tr>\n",
       "      <th>2019-09-18</th>\n",
       "      <td>254593.721145</td>\n",
       "      <td>227551.622419</td>\n",
       "      <td>302623.071271</td>\n",
       "      <td>153782.894737</td>\n",
       "      <td>938551.309572</td>\n",
       "    </tr>\n",
       "    <tr>\n",
       "      <th>2019-09-19</th>\n",
       "      <td>252527.700831</td>\n",
       "      <td>226823.992134</td>\n",
       "      <td>308199.853049</td>\n",
       "      <td>154440.789474</td>\n",
       "      <td>941992.335488</td>\n",
       "    </tr>\n",
       "    <tr>\n",
       "      <th>2019-09-20</th>\n",
       "      <td>248834.256694</td>\n",
       "      <td>225919.370698</td>\n",
       "      <td>304628.949302</td>\n",
       "      <td>153618.421053</td>\n",
       "      <td>933000.997747</td>\n",
       "    </tr>\n",
       "    <tr>\n",
       "      <th>2019-09-23</th>\n",
       "      <td>249965.373961</td>\n",
       "      <td>225880.039331</td>\n",
       "      <td>303989.713446</td>\n",
       "      <td>153125.000000</td>\n",
       "      <td>932960.126739</td>\n",
       "    </tr>\n",
       "    <tr>\n",
       "      <th>2019-09-24</th>\n",
       "      <td>248776.546630</td>\n",
       "      <td>222930.186824</td>\n",
       "      <td>300132.255694</td>\n",
       "      <td>147039.473684</td>\n",
       "      <td>918878.462832</td>\n",
       "    </tr>\n",
       "    <tr>\n",
       "      <th>2019-09-25</th>\n",
       "      <td>252608.494922</td>\n",
       "      <td>224208.456244</td>\n",
       "      <td>304452.608376</td>\n",
       "      <td>150164.473684</td>\n",
       "      <td>931434.033226</td>\n",
       "    </tr>\n",
       "    <tr>\n",
       "      <th>2019-09-26</th>\n",
       "      <td>251304.247461</td>\n",
       "      <td>222359.882006</td>\n",
       "      <td>304849.375459</td>\n",
       "      <td>147861.842105</td>\n",
       "      <td>926375.347031</td>\n",
       "    </tr>\n",
       "  </tbody>\n",
       "</table>\n",
       "</div>"
      ],
      "text/plain": [
       "                     AAPL            JPM           MSFT             GE  \\\n",
       "Date                                                                     \n",
       "2019-09-13  250000.000000  228436.578171  300000.000000  153125.000000   \n",
       "2019-09-16  251315.789474  226411.012783  297839.823659  153782.894737   \n",
       "2019-09-17  252227.608495  225290.068830  300154.298310  153453.947368   \n",
       "2019-09-18  254593.721145  227551.622419  302623.071271  153782.894737   \n",
       "2019-09-19  252527.700831  226823.992134  308199.853049  154440.789474   \n",
       "2019-09-20  248834.256694  225919.370698  304628.949302  153618.421053   \n",
       "2019-09-23  249965.373961  225880.039331  303989.713446  153125.000000   \n",
       "2019-09-24  248776.546630  222930.186824  300132.255694  147039.473684   \n",
       "2019-09-25  252608.494922  224208.456244  304452.608376  150164.473684   \n",
       "2019-09-26  251304.247461  222359.882006  304849.375459  147861.842105   \n",
       "\n",
       "                    Total  \n",
       "Date                       \n",
       "2019-09-13  931561.578171  \n",
       "2019-09-16  929349.520652  \n",
       "2019-09-17  931125.923003  \n",
       "2019-09-18  938551.309572  \n",
       "2019-09-19  941992.335488  \n",
       "2019-09-20  933000.997747  \n",
       "2019-09-23  932960.126739  \n",
       "2019-09-24  918878.462832  \n",
       "2019-09-25  931434.033226  \n",
       "2019-09-26  926375.347031  "
      ]
     },
     "execution_count": 84,
     "metadata": {},
     "output_type": "execute_result"
    }
   ],
   "source": [
    "portfolio_val.head(10)"
   ]
  },
  {
   "cell_type": "markdown",
   "metadata": {},
   "source": [
    "### we can see day-by-day how our positions and portfolio value is changing."
   ]
  },
  {
   "cell_type": "code",
   "execution_count": 85,
   "metadata": {},
   "outputs": [
    {
     "data": {
      "text/plain": [
       "<Axes: xlabel='Date'>"
      ]
     },
     "execution_count": 85,
     "metadata": {},
     "output_type": "execute_result"
    },
    {
     "data": {
      "image/png": "[encoded data removed]",
      "text/plain": [
       "<Figure size 1000x800 with 1 Axes>"
      ]
     },
     "metadata": {},
     "output_type": "display_data"
    }
   ],
   "source": [
    "# plot our portfolio\n",
    "import matplotlib.pyplot as plt\n",
    "%matplotlib inline\n",
    "portfolio_val['Total'].plot(figsize=(10,8))"
   ]
  },
  {
   "cell_type": "markdown",
   "metadata": {},
   "source": [
    "### We have made 150k for the year\n",
    "\n",
    "Lets also look at individual contributions of each stock in our portfolio"
   ]
  },
  {
   "cell_type": "code",
   "execution_count": 86,
   "metadata": {},
   "outputs": [
    {
     "data": {
      "text/plain": [
       "<Axes: xlabel='Date'>"
      ]
     },
     "execution_count": 86,
     "metadata": {},
     "output_type": "execute_result"
    },
    {
     "data": {
      "image/png": "[encoded data removed]",
      "text/plain": [
       "<Figure size 1000x800 with 1 Axes>"
      ]
     },
     "metadata": {},
     "output_type": "display_data"
    }
   ],
   "source": [
    "portfolio_val.drop('Total',axis=1).plot(figsize=(10,8))"
   ]
  },
  {
   "cell_type": "markdown",
   "metadata": {},
   "source": [
    "### Let's move towards implementing MCMC and Optimization"
   ]
  },
  {
   "cell_type": "code",
   "execution_count": 87,
   "metadata": {},
   "outputs": [],
   "source": [
    "# Daily Return\n",
    "portfolio_val['Daily Return'] = portfolio_val['Total'].pct_change(1)"
   ]
  },
  {
   "cell_type": "code",
   "execution_count": 88,
   "metadata": {},
   "outputs": [
    {
     "data": {
      "text/plain": [
       "<Axes: ylabel='Frequency'>"
      ]
     },
     "execution_count": 88,
     "metadata": {},
     "output_type": "execute_result"
    },
    {
     "data": {
      "image/png": "[encoded data removed]",
      "text/plain": [
       "<Figure size 400x500 with 1 Axes>"
      ]
     },
     "metadata": {},
     "output_type": "display_data"
    }
   ],
   "source": [
    "# average daily return\n",
    "portfolio_val['Daily Return'].mean()\n",
    "\n",
    "# standard deviation\n",
    "portfolio_val['Daily Return'].std()\n",
    "\n",
    "# plot histogram of daily returns\n",
    "portfolio_val['Daily Return'].plot(kind='hist', bins=50, figsize=(4,5))"
   ]
  },
  {
   "cell_type": "markdown",
   "metadata": {},
   "source": [
    "Calculating the total portfolio return "
   ]
  },
  {
   "cell_type": "code",
   "execution_count": 89,
   "metadata": {},
   "outputs": [
    {
     "name": "stderr",
     "output_type": "stream",
     "text": [
      "C:\\Users\\ashok\\AppData\\Local\\Temp\\ipykernel_27056\\691628946.py:2: FutureWarning: Series.__getitem__ treating keys as positions is deprecated. In a future version, integer keys will always be treated as labels (consistent with DataFrame behavior). To access a value by position, use `ser.iloc[pos]`\n",
      "  cum_return = 100 * (portfolio_val['Total'][-1]/portfolio_val['Total'][0] - 1)\n"
     ]
    },
    {
     "data": {
      "text/plain": [
       "-59.672424159756375"
      ]
     },
     "execution_count": 89,
     "metadata": {},
     "output_type": "execute_result"
    }
   ],
   "source": [
    "# cumulative portfolio return\n",
    "cum_return = 100 * (portfolio_val['Total'][-1]/portfolio_val['Total'][0] - 1)\n",
    "cum_return"
   ]
  },
  {
   "cell_type": "markdown",
   "metadata": {},
   "source": [
    "### Calculate Sharpe Ratio"
   ]
  },
  {
   "cell_type": "markdown",
   "metadata": {},
   "source": [
    "The Sharpe Ratio is the mean (portfolio return - the risk free rate) % standard deviation."
   ]
  },
  {
   "cell_type": "code",
   "execution_count": 90,
   "metadata": {},
   "outputs": [
    {
     "data": {
      "text/plain": [
       "-0.23745472999681583"
      ]
     },
     "execution_count": 90,
     "metadata": {},
     "output_type": "execute_result"
    }
   ],
   "source": [
    "sharpe_ratio = portfolio_val['Daily Return'].mean() / portfolio_val['Daily Return'].std()\n",
    "ASR = (252**0.5) * sharpe_ratio\n",
    "ASR"
   ]
  },
  {
   "cell_type": "markdown",
   "metadata": {},
   "source": [
    "Annualized Share Ratio is 0.79"
   ]
  },
  {
   "cell_type": "markdown",
   "metadata": {},
   "source": [
    "### Optimization using Monte Carlo Simulation"
   ]
  },
  {
   "cell_type": "markdown",
   "metadata": {},
   "source": [
    "We will check a bunch of random allocations and analyse which one has the best Sharpe Ratio.\n",
    "#### This process of randomly guessing is known as a Monte Carlo Simulation.\n",
    "\n",
    "We will randomly assign weights to our stocks in the portfolio using mcmc and then calculate the average daily return & SD (Standard deviation) of return. Then we can calculate the Sharpe Ratio for many randomly selected allocations. "
   ]
  },
  {
   "cell_type": "markdown",
   "metadata": {},
   "source": [
    "We will further use Optimzation Algorithm to minimize for this. \n",
    "\n",
    "Minimization is a similar concept to optimization - let's say we have a simple equation y = x2 - the idea is we're trying to figure out what value of x will minimize y, in this example 0.\n",
    "\n",
    "This idea of a minimizer will allow us to build an optimizer."
   ]
  },
  {
   "cell_type": "code",
   "execution_count": 91,
   "metadata": {},
   "outputs": [
    {
     "data": {
      "text/html": [
       "<div>\n",
       "<style scoped>\n",
       "    .dataframe tbody tr th:only-of-type {\n",
       "        vertical-align: middle;\n",
       "    }\n",
       "\n",
       "    .dataframe tbody tr th {\n",
       "        vertical-align: top;\n",
       "    }\n",
       "\n",
       "    .dataframe thead th {\n",
       "        text-align: right;\n",
       "    }\n",
       "</style>\n",
       "<table border=\"1\" class=\"dataframe\">\n",
       "  <thead>\n",
       "    <tr style=\"text-align: right;\">\n",
       "      <th></th>\n",
       "      <th>AAPL</th>\n",
       "      <th>JPM</th>\n",
       "      <th>GE</th>\n",
       "      <th>MSFT</th>\n",
       "    </tr>\n",
       "    <tr>\n",
       "      <th>Date</th>\n",
       "      <th></th>\n",
       "      <th></th>\n",
       "      <th></th>\n",
       "      <th></th>\n",
       "    </tr>\n",
       "  </thead>\n",
       "  <tbody>\n",
       "    <tr>\n",
       "      <th>2019-09-13</th>\n",
       "      <td>216.60</td>\n",
       "      <td>116.16</td>\n",
       "      <td>9.31</td>\n",
       "      <td>136.10</td>\n",
       "    </tr>\n",
       "    <tr>\n",
       "      <th>2019-09-16</th>\n",
       "      <td>217.74</td>\n",
       "      <td>115.13</td>\n",
       "      <td>9.35</td>\n",
       "      <td>135.12</td>\n",
       "    </tr>\n",
       "    <tr>\n",
       "      <th>2019-09-17</th>\n",
       "      <td>218.53</td>\n",
       "      <td>114.56</td>\n",
       "      <td>9.33</td>\n",
       "      <td>136.17</td>\n",
       "    </tr>\n",
       "    <tr>\n",
       "      <th>2019-09-18</th>\n",
       "      <td>220.58</td>\n",
       "      <td>115.71</td>\n",
       "      <td>9.35</td>\n",
       "      <td>137.29</td>\n",
       "    </tr>\n",
       "    <tr>\n",
       "      <th>2019-09-19</th>\n",
       "      <td>218.79</td>\n",
       "      <td>115.34</td>\n",
       "      <td>9.39</td>\n",
       "      <td>139.82</td>\n",
       "    </tr>\n",
       "    <tr>\n",
       "      <th>...</th>\n",
       "      <td>...</td>\n",
       "      <td>...</td>\n",
       "      <td>...</td>\n",
       "      <td>...</td>\n",
       "    </tr>\n",
       "    <tr>\n",
       "      <th>2019-09-06</th>\n",
       "      <td>NaN</td>\n",
       "      <td>108.80</td>\n",
       "      <td>8.67</td>\n",
       "      <td>NaN</td>\n",
       "    </tr>\n",
       "    <tr>\n",
       "      <th>2019-09-09</th>\n",
       "      <td>NaN</td>\n",
       "      <td>111.50</td>\n",
       "      <td>8.92</td>\n",
       "      <td>NaN</td>\n",
       "    </tr>\n",
       "    <tr>\n",
       "      <th>2019-09-10</th>\n",
       "      <td>NaN</td>\n",
       "      <td>112.92</td>\n",
       "      <td>9.10</td>\n",
       "      <td>NaN</td>\n",
       "    </tr>\n",
       "    <tr>\n",
       "      <th>2019-09-11</th>\n",
       "      <td>NaN</td>\n",
       "      <td>113.23</td>\n",
       "      <td>9.32</td>\n",
       "      <td>NaN</td>\n",
       "    </tr>\n",
       "    <tr>\n",
       "      <th>2019-09-12</th>\n",
       "      <td>NaN</td>\n",
       "      <td>113.92</td>\n",
       "      <td>9.22</td>\n",
       "      <td>NaN</td>\n",
       "    </tr>\n",
       "  </tbody>\n",
       "</table>\n",
       "<p>1428 rows × 4 columns</p>\n",
       "</div>"
      ],
      "text/plain": [
       "              AAPL     JPM    GE    MSFT\n",
       "Date                                    \n",
       "2019-09-13  216.60  116.16  9.31  136.10\n",
       "2019-09-16  217.74  115.13  9.35  135.12\n",
       "2019-09-17  218.53  114.56  9.33  136.17\n",
       "2019-09-18  220.58  115.71  9.35  137.29\n",
       "2019-09-19  218.79  115.34  9.39  139.82\n",
       "...            ...     ...   ...     ...\n",
       "2019-09-06     NaN  108.80  8.67     NaN\n",
       "2019-09-09     NaN  111.50  8.92     NaN\n",
       "2019-09-10     NaN  112.92  9.10     NaN\n",
       "2019-09-11     NaN  113.23  9.32     NaN\n",
       "2019-09-12     NaN  113.92  9.22     NaN\n",
       "\n",
       "[1428 rows x 4 columns]"
      ]
     },
     "execution_count": 91,
     "metadata": {},
     "output_type": "execute_result"
    }
   ],
   "source": [
    "# concatenate them and rename the columns\n",
    "stocks = pd.concat([aapl.Close, jpm.Close, ge.Close, msft.Close], axis=1)\n",
    "stocks.columns = ['AAPL', 'JPM', 'GE', 'MSFT']\n",
    "stocks"
   ]
  },
  {
   "cell_type": "code",
   "execution_count": 92,
   "metadata": {},
   "outputs": [
    {
     "name": "stderr",
     "output_type": "stream",
     "text": [
      "C:\\Users\\ashok\\AppData\\Local\\Temp\\ipykernel_27056\\115677780.py:1: FutureWarning: The default fill_method='pad' in DataFrame.pct_change is deprecated and will be removed in a future version. Either fill in any non-leading NA values prior to calling pct_change or specify 'fill_method=None' to not fill NA values.\n",
      "  stocks.pct_change(1).mean()\n"
     ]
    },
    {
     "data": {
      "text/plain": [
       "AAPL    0.000306\n",
       "JPM     0.000227\n",
       "GE      0.001079\n",
       "MSFT    0.000259\n",
       "dtype: float64"
      ]
     },
     "execution_count": 92,
     "metadata": {},
     "output_type": "execute_result"
    }
   ],
   "source": [
    "stocks.pct_change(1).mean()"
   ]
  },
  {
   "cell_type": "code",
   "execution_count": 93,
   "metadata": {},
   "outputs": [
    {
     "name": "stderr",
     "output_type": "stream",
     "text": [
      "C:\\Users\\ashok\\AppData\\Local\\Temp\\ipykernel_27056\\3073985594.py:1: FutureWarning: The default fill_method='pad' in DataFrame.pct_change is deprecated and will be removed in a future version. Either fill in any non-leading NA values prior to calling pct_change or specify 'fill_method=None' to not fill NA values.\n",
      "  stocks.pct_change(1).head()\n"
     ]
    },
    {
     "data": {
      "text/html": [
       "<div>\n",
       "<style scoped>\n",
       "    .dataframe tbody tr th:only-of-type {\n",
       "        vertical-align: middle;\n",
       "    }\n",
       "\n",
       "    .dataframe tbody tr th {\n",
       "        vertical-align: top;\n",
       "    }\n",
       "\n",
       "    .dataframe thead th {\n",
       "        text-align: right;\n",
       "    }\n",
       "</style>\n",
       "<table border=\"1\" class=\"dataframe\">\n",
       "  <thead>\n",
       "    <tr style=\"text-align: right;\">\n",
       "      <th></th>\n",
       "      <th>AAPL</th>\n",
       "      <th>JPM</th>\n",
       "      <th>GE</th>\n",
       "      <th>MSFT</th>\n",
       "    </tr>\n",
       "    <tr>\n",
       "      <th>Date</th>\n",
       "      <th></th>\n",
       "      <th></th>\n",
       "      <th></th>\n",
       "      <th></th>\n",
       "    </tr>\n",
       "  </thead>\n",
       "  <tbody>\n",
       "    <tr>\n",
       "      <th>2019-09-13</th>\n",
       "      <td>NaN</td>\n",
       "      <td>NaN</td>\n",
       "      <td>NaN</td>\n",
       "      <td>NaN</td>\n",
       "    </tr>\n",
       "    <tr>\n",
       "      <th>2019-09-16</th>\n",
       "      <td>0.005263</td>\n",
       "      <td>-0.008867</td>\n",
       "      <td>0.004296</td>\n",
       "      <td>-0.007201</td>\n",
       "    </tr>\n",
       "    <tr>\n",
       "      <th>2019-09-17</th>\n",
       "      <td>0.003628</td>\n",
       "      <td>-0.004951</td>\n",
       "      <td>-0.002139</td>\n",
       "      <td>0.007771</td>\n",
       "    </tr>\n",
       "    <tr>\n",
       "      <th>2019-09-18</th>\n",
       "      <td>0.009381</td>\n",
       "      <td>0.010038</td>\n",
       "      <td>0.002144</td>\n",
       "      <td>0.008225</td>\n",
       "    </tr>\n",
       "    <tr>\n",
       "      <th>2019-09-19</th>\n",
       "      <td>-0.008115</td>\n",
       "      <td>-0.003198</td>\n",
       "      <td>0.004278</td>\n",
       "      <td>0.018428</td>\n",
       "    </tr>\n",
       "  </tbody>\n",
       "</table>\n",
       "</div>"
      ],
      "text/plain": [
       "                AAPL       JPM        GE      MSFT\n",
       "Date                                              \n",
       "2019-09-13       NaN       NaN       NaN       NaN\n",
       "2019-09-16  0.005263 -0.008867  0.004296 -0.007201\n",
       "2019-09-17  0.003628 -0.004951 -0.002139  0.007771\n",
       "2019-09-18  0.009381  0.010038  0.002144  0.008225\n",
       "2019-09-19 -0.008115 -0.003198  0.004278  0.018428"
      ]
     },
     "execution_count": 93,
     "metadata": {},
     "output_type": "execute_result"
    }
   ],
   "source": [
    "stocks.pct_change(1).head()"
   ]
  },
  {
   "cell_type": "code",
   "execution_count": 94,
   "metadata": {},
   "outputs": [
    {
     "data": {
      "text/html": [
       "<div>\n",
       "<style scoped>\n",
       "    .dataframe tbody tr th:only-of-type {\n",
       "        vertical-align: middle;\n",
       "    }\n",
       "\n",
       "    .dataframe tbody tr th {\n",
       "        vertical-align: top;\n",
       "    }\n",
       "\n",
       "    .dataframe thead th {\n",
       "        text-align: right;\n",
       "    }\n",
       "</style>\n",
       "<table border=\"1\" class=\"dataframe\">\n",
       "  <thead>\n",
       "    <tr style=\"text-align: right;\">\n",
       "      <th></th>\n",
       "      <th>AAPL</th>\n",
       "      <th>JPM</th>\n",
       "      <th>GE</th>\n",
       "      <th>MSFT</th>\n",
       "    </tr>\n",
       "    <tr>\n",
       "      <th>Date</th>\n",
       "      <th></th>\n",
       "      <th></th>\n",
       "      <th></th>\n",
       "      <th></th>\n",
       "    </tr>\n",
       "  </thead>\n",
       "  <tbody>\n",
       "    <tr>\n",
       "      <th>2019-09-13</th>\n",
       "      <td>NaN</td>\n",
       "      <td>NaN</td>\n",
       "      <td>NaN</td>\n",
       "      <td>NaN</td>\n",
       "    </tr>\n",
       "    <tr>\n",
       "      <th>2019-09-16</th>\n",
       "      <td>0.005249</td>\n",
       "      <td>-0.008907</td>\n",
       "      <td>0.004287</td>\n",
       "      <td>-0.007227</td>\n",
       "    </tr>\n",
       "    <tr>\n",
       "      <th>2019-09-17</th>\n",
       "      <td>0.003622</td>\n",
       "      <td>-0.004963</td>\n",
       "      <td>-0.002141</td>\n",
       "      <td>0.007741</td>\n",
       "    </tr>\n",
       "    <tr>\n",
       "      <th>2019-09-18</th>\n",
       "      <td>0.009337</td>\n",
       "      <td>0.009988</td>\n",
       "      <td>0.002141</td>\n",
       "      <td>0.008191</td>\n",
       "    </tr>\n",
       "    <tr>\n",
       "      <th>2019-09-19</th>\n",
       "      <td>-0.008148</td>\n",
       "      <td>-0.003203</td>\n",
       "      <td>0.004269</td>\n",
       "      <td>0.018260</td>\n",
       "    </tr>\n",
       "  </tbody>\n",
       "</table>\n",
       "</div>"
      ],
      "text/plain": [
       "                AAPL       JPM        GE      MSFT\n",
       "Date                                              \n",
       "2019-09-13       NaN       NaN       NaN       NaN\n",
       "2019-09-16  0.005249 -0.008907  0.004287 -0.007227\n",
       "2019-09-17  0.003622 -0.004963 -0.002141  0.007741\n",
       "2019-09-18  0.009337  0.009988  0.002141  0.008191\n",
       "2019-09-19 -0.008148 -0.003203  0.004269  0.018260"
      ]
     },
     "execution_count": 94,
     "metadata": {},
     "output_type": "execute_result"
    }
   ],
   "source": [
    "# log daily return\n",
    "log_return = np.log(stocks/stocks.shift(1))\n",
    "log_return.head()"
   ]
  },
  {
   "cell_type": "code",
   "execution_count": 95,
   "metadata": {},
   "outputs": [
    {
     "name": "stdout",
     "output_type": "stream",
     "text": [
      "Index(['AAPL', 'JPM', 'GE', 'MSFT'], dtype='object')\n",
      "Random Weights:\n",
      "[0.11960235 0.11478336 0.41668646 0.29362039]\n",
      "Rebalance\n",
      "[0.12660452 0.1215034  0.44108156 0.31081052]\n"
     ]
    }
   ],
   "source": [
    "print(stocks.columns)\n",
    "\n",
    "weights = np.array(np.random.random(4))\n",
    "print('Random Weights:')\n",
    "print(weights)\n",
    "\n",
    "print('Rebalance')\n",
    "weights = weights/np.sum(weights)\n",
    "print(weights)"
   ]
  },
  {
   "cell_type": "code",
   "execution_count": 96,
   "metadata": {},
   "outputs": [
    {
     "name": "stdout",
     "output_type": "stream",
     "text": [
      "Expected Portfolio Return\n",
      "0.20318594906009524\n",
      "Expected Volatility\n",
      "0.45479452827489053\n",
      "Sharpe Ratio\n",
      "0.4467642779934326\n"
     ]
    }
   ],
   "source": [
    "# expected return\n",
    "print('Expected Portfolio Return')\n",
    "exp_ret = np.sum((log_return.mean()*weights)*252)\n",
    "print(exp_ret)\n",
    "\n",
    "# expected volatility\n",
    "print('Expected Volatility')\n",
    "exp_vol = np.sqrt(np.dot(weights.T,np.dot(log_return.cov()*252, weights)))\n",
    "print(exp_vol)\n",
    "\n",
    "# Sharpe Ratio\n",
    "print('Sharpe Ratio')\n",
    "SR = exp_ret/exp_vol\n",
    "print(SR)"
   ]
  },
  {
   "cell_type": "markdown",
   "metadata": {},
   "source": [
    "Now we will repeat the above process over 1000 times "
   ]
  },
  {
   "cell_type": "code",
   "execution_count": 97,
   "metadata": {},
   "outputs": [],
   "source": [
    "num_ports = 8000\n",
    "all_weights = np.zeros((num_ports, len(stocks.columns)))\n",
    "ret_arr = np.zeros(num_ports)\n",
    "vol_arr = np.zeros(num_ports)\n",
    "sharpe_arr = np.zeros(num_ports)\n",
    "\n",
    "for ind in range(num_ports): \n",
    "    # weights \n",
    "    weights = np.array(np.random.random(4)) \n",
    "    weights = weights/np.sum(weights)  \n",
    "    # save the weights\n",
    "    all_weights[ind,:] = weights\n",
    "    # expected return \n",
    "    ret_arr[ind] = np.sum((log_return.mean()*weights)*252)\n",
    "\n",
    "    # expected volatility \n",
    "    vol_arr[ind] = np.sqrt(np.dot(weights.T,np.dot(log_return.cov()*252, weights)))\n",
    "\n",
    "    # Sharpe Ratio \n",
    "    sharpe_arr[ind] = ret_arr[ind]/vol_arr[ind]"
   ]
  },
  {
   "cell_type": "code",
   "execution_count": 98,
   "metadata": {},
   "outputs": [
    {
     "data": {
      "text/plain": [
       "1.117809991874103"
      ]
     },
     "execution_count": 98,
     "metadata": {},
     "output_type": "execute_result"
    }
   ],
   "source": [
    "sharpe_arr.max()"
   ]
  },
  {
   "cell_type": "markdown",
   "metadata": {},
   "source": [
    "If we then get the location of the maximum Sharpe Ratio and then get the allocation for that index. This shows us the optimal allocation out of the 8000 random allocations:"
   ]
  },
  {
   "cell_type": "code",
   "execution_count": 99,
   "metadata": {},
   "outputs": [
    {
     "data": {
      "text/plain": [
       "3906"
      ]
     },
     "execution_count": 99,
     "metadata": {},
     "output_type": "execute_result"
    }
   ],
   "source": [
    "sharpe_arr.argmax()"
   ]
  },
  {
   "cell_type": "code",
   "execution_count": 100,
   "metadata": {},
   "outputs": [
    {
     "data": {
      "text/plain": [
       "array([0.21169626, 0.07688625, 0.22036948, 0.491048  ])"
      ]
     },
     "execution_count": 100,
     "metadata": {},
     "output_type": "execute_result"
    }
   ],
   "source": [
    "all_weights[7098, :]"
   ]
  },
  {
   "cell_type": "markdown",
   "metadata": {},
   "source": [
    "These are the best allocations we have received using MCMC. Lets compare how we did from the original Allocation"
   ]
  },
  {
   "cell_type": "markdown",
   "metadata": {},
   "source": [
    "Original Allocation - \n",
    "\n",
    "- 25% in AAPL\n",
    "- 10% in JPM\n",
    "- 30% in MSFT\n",
    "- 35% in GE\n",
    "\n",
    "MCMC Allocation - \n",
    "\n",
    "- 25% in AAPL\n",
    "- 10% in JPM\n",
    "- 35% in MSFT\n",
    "- 30% IN GE\n"
   ]
  },
  {
   "cell_type": "markdown",
   "metadata": {},
   "source": [
    "### Initial Allocation"
   ]
  },
  {
   "cell_type": "code",
   "execution_count": 111,
   "metadata": {},
   "outputs": [
    {
     "data": {
      "image/png": "[encoded data removed]",
      "text/plain": [
       "<Figure size 640x480 with 1 Axes>"
      ]
     },
     "metadata": {},
     "output_type": "display_data"
    }
   ],
   "source": [
    "import matplotlib.pyplot as plt\n",
    "\n",
    "# Pie chart, where the slices will be ordered and plotted counter-clockwise:\n",
    "labels = 'AAPL', 'JPM', 'GE', 'MSFT'\n",
    "sizes = [25, 10, 30, 35]\n",
    "explode = (0, 0.1, 0, 0)  # only \"explode\" the 2nd slice (i.e. 'Hogs')\n",
    "\n",
    "fig1, ax1 = plt.subplots()\n",
    "ax1.pie(sizes, explode=explode, labels=labels, autopct='%1.1f%%',\n",
    "        shadow=True, startangle=90)\n",
    "ax1.axis('equal')  # Equal aspect ratio ensures that pie is drawn as a circle.\n",
    "\n",
    "plt.show()"
   ]
  },
  {
   "cell_type": "markdown",
   "metadata": {},
   "source": [
    "### After  Markov Chain Monte Carlo (MCMC) "
   ]
  },
  {
   "cell_type": "code",
   "execution_count": 112,
   "metadata": {},
   "outputs": [
    {
     "data": {
      "image/png": "[encoded data removed]",
      "text/plain": [
       "<Figure size 640x480 with 1 Axes>"
      ]
     },
     "metadata": {},
     "output_type": "display_data"
    }
   ],
   "source": [
    "import matplotlib.pyplot as plt\n",
    "labels = 'AAPL', 'JPM', 'GE', 'MSFT'\n",
    "sizes = [21, 20, 34, 23]\n",
    "explode = (0, 0.1, 0, 0)  # only \"explode\" the 2nd slice (i.e. 'Hogs')\n",
    "fig1, ax1 = plt.subplots()\n",
    "ax1.pie(sizes, explode=explode, labels=labels, autopct='%1.1f%%',\n",
    "        shadow=True, startangle=90)\n",
    "ax1.axis('equal')  # Equal aspect ratio ensures that pie is drawn as a circle.\n",
    "plt.show()"
   ]
  },
  {
   "cell_type": "markdown",
   "metadata": {},
   "source": [
    "### Portfolio Optimization: Optimization Algorithm\n",
    "Let's now move on from random allocations to a mathematical optimization algorithm.\n",
    "\n",
    "All of the heavy lifting for this optimization will be done with SciPy, so we just have to do a few things to set up the optimization function."
   ]
  },
  {
   "cell_type": "code",
   "execution_count": 113,
   "metadata": {},
   "outputs": [],
   "source": [
    "from scipy.optimize import minimize\n",
    "\n",
    "def get_ret_vol_sr(weights): \n",
    "    weights = np.array(weights)\n",
    "    ret = np.sum(log_return.mean() * weights) * 252\n",
    "    vol = np.sqrt(np.dot(weights.T,np.dot(log_return .cov()*252,weights)))\n",
    "    sr = ret/vol \n",
    "    return np.array([ret,vol,sr])\n",
    "\n",
    "\n",
    "# minimize negative Sharpe Ratio\n",
    "def neg_sharpe(weights): \n",
    "    return get_ret_vol_sr(weights)[2] * -1\n",
    "\n",
    "# check allocation sums to 1\n",
    "def check_sum(weights): \n",
    "    return np.sum(weights) - 1"
   ]
  },
  {
   "cell_type": "code",
   "execution_count": 114,
   "metadata": {},
   "outputs": [],
   "source": [
    "# create constraint variable\n",
    "cons = ({'type':'eq','fun':check_sum})"
   ]
  },
  {
   "cell_type": "code",
   "execution_count": 115,
   "metadata": {},
   "outputs": [],
   "source": [
    "# create weight boundaries\n",
    "bounds = ((0,1),(0,1),(0,1),(0,1))"
   ]
  },
  {
   "cell_type": "code",
   "execution_count": 116,
   "metadata": {},
   "outputs": [],
   "source": [
    "# initial guess\n",
    "init_guess = [0.25, 0.25, 0.25, 0.25]"
   ]
  },
  {
   "cell_type": "markdown",
   "metadata": {},
   "source": [
    "First we call minimize and pass in what we're trying to minimize - negative Sharpe, our initial guess, we set the minimization method to SLSQP, and we set our bounds and constraints:"
   ]
  },
  {
   "cell_type": "code",
   "execution_count": 117,
   "metadata": {},
   "outputs": [],
   "source": [
    "opt_results = minimize(neg_sharpe, init_guess, method='SLSQP', bounds=bounds, constraints=cons)"
   ]
  },
  {
   "cell_type": "code",
   "execution_count": 118,
   "metadata": {},
   "outputs": [
    {
     "data": {
      "text/plain": [
       " message: Optimization terminated successfully\n",
       " success: True\n",
       "  status: 0\n",
       "     fun: -1.190400913478738\n",
       "       x: [ 1.000e+00  4.531e-15  4.927e-16  0.000e+00]\n",
       "     nit: 4\n",
       "     jac: [-0.000e+00  1.136e+00  1.141e+00  1.307e-01]\n",
       "    nfev: 20\n",
       "    njev: 4"
      ]
     },
     "execution_count": 118,
     "metadata": {},
     "output_type": "execute_result"
    }
   ],
   "source": [
    "opt_results"
   ]
  },
  {
   "cell_type": "code",
   "execution_count": 119,
   "metadata": {},
   "outputs": [
    {
     "data": {
      "text/plain": [
       "array([1.00000000e+00, 4.53109772e-15, 4.92661467e-16, 0.00000000e+00])"
      ]
     },
     "execution_count": 119,
     "metadata": {},
     "output_type": "execute_result"
    }
   ],
   "source": [
    "opt_results.x"
   ]
  },
  {
   "cell_type": "code",
   "execution_count": 120,
   "metadata": {},
   "outputs": [
    {
     "data": {
      "text/plain": [
       "array([0.54055931, 0.45409853, 1.19040091])"
      ]
     },
     "execution_count": 120,
     "metadata": {},
     "output_type": "execute_result"
    }
   ],
   "source": [
    "get_ret_vol_sr(opt_results.x)"
   ]
  },
  {
   "cell_type": "markdown",
   "metadata": {},
   "source": [
    "The Optimal results of the Optimization algorithm are 1.190"
   ]
  },
  {
   "cell_type": "markdown",
   "metadata": {},
   "source": [
    "### Conclusion \n",
    "\n",
    "We have implemented Monte carlo Simulation technique to randomly take a sample and simulate it to find the best sharpe ratio for a given portfolio. \n",
    "Then we moved to a better appraoch using Optimization Algorithm by Minimize function in Spicy library. \n",
    "\n",
    "We get around same Sharpe ratio for both which improves on the initial portfolio allocation we started off with. \n",
    "\n",
    "We can form more trading strategies based on other methods too like Pairs trading, Butterfly spread, Bull-bear spread etc. But we just wanted to implement a Trading strategy and see how we can optimize a portfolio. "
   ]
  }
 ],
 "metadata": {
  "kernelspec": {
   "display_name": "Python 3",
   "language": "python",
   "name": "python3"
  },
  "language_info": {
   "codemirror_mode": {
    "name": "ipython",
    "version": 3
   },
   "file_extension": ".py",
   "mimetype": "text/x-python",
   "name": "python",
   "nbconvert_exporter": "python",
   "pygments_lexer": "ipython3",
   "version": "3.11.2"
  }
 },
 "nbformat": 4,
 "nbformat_minor": 2
}
