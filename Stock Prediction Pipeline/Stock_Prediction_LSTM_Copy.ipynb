{
 "cells": [
  {
   "cell_type": "markdown",
   "metadata": {},
   "source": [
    "## LSTM with Multiple Time steps of Close Price as a Time Series Sequence\n",
    "\n",
    "In Previous notebook, we tried different algorithms like XG Boost, Random Forest and LSTM using Extensive feature extraction where we extracted around 60 features using different Technical Indicators as well as prices of other related  Index funds like Nasdaq-100 QQQ ETF, SNP 500 Index and DJIA Index fund. Linear Regression, Random Forest and XG Boost performed really well, on an average an MAE(Mean Absolute error) of around 0.36. We also checked for Feature importance using RF. But LSTM did not perform good with these features. As expected as we did not feed any long sequence of previous data. The  Indicators for a previous day is not enough for Long short term memory. \n",
    "\n",
    "In this Notebook, we will focus on the Close price sequence of previous days. And we we also tune the number of lagged days to consider for prediction. With LSTM, we will try a lookback of 30 days approx 1+ months to predict the price of next day. "
   ]
  },
  {
   "cell_type": "markdown",
   "metadata": {},
   "source": [
    "### Import the Libraries"
   ]
  },
  {
   "cell_type": "code",
   "execution_count": 1,
   "metadata": {},
   "outputs": [],
   "source": [
    "import pandas as pd\n",
    "import matplotlib.pyplot as plt\n",
    "from pylab import rcParams\n",
    "import numpy as np\n",
    "import seaborn as sns\n",
    "\n",
    "from sklearn.preprocessing import MinMaxScaler\n",
    "from keras.models import Sequential\n",
    "from keras.layers import Dense, Dropout, LSTM\n",
    "from sklearn.model_selection import cross_val_score, train_test_split\n",
    "from sklearn.model_selection import cross_validate,GridSearchCV\n",
    "from sklearn import metrics\n",
    "from sklearn.preprocessing import StandardScaler\n",
    "#from sklearn.feature_extraction import DictVectorizer\n",
    "#from sklearn.utils.multiclass import unique_labels\n",
    "# import scikitplot as skplt\n",
    "import matplotlib.pyplot as plt\n",
    "from matplotlib.colors import ListedColormap\n",
    "from mpl_toolkits.mplot3d import Axes3D\n",
    "\n",
    "import warnings\n",
    "warnings.filterwarnings('ignore')\n",
    "%matplotlib inline\n",
    "\n"
   ]
  },
  {
   "cell_type": "code",
   "execution_count": 2,
   "metadata": {},
   "outputs": [],
   "source": [
    "file_path = r'C:\\Users\\ashok\\Desktop\\SPPO\\Streamlit Web App\\META.csv'"
   ]
  },
  {
   "cell_type": "code",
   "execution_count": 3,
   "metadata": {},
   "outputs": [
    {
     "data": {
      "text/html": [
       "<div>\n",
       "<style scoped>\n",
       "    .dataframe tbody tr th:only-of-type {\n",
       "        vertical-align: middle;\n",
       "    }\n",
       "\n",
       "    .dataframe tbody tr th {\n",
       "        vertical-align: top;\n",
       "    }\n",
       "\n",
       "    .dataframe thead th {\n",
       "        text-align: right;\n",
       "    }\n",
       "</style>\n",
       "<table border=\"1\" class=\"dataframe\">\n",
       "  <thead>\n",
       "    <tr style=\"text-align: right;\">\n",
       "      <th></th>\n",
       "      <th>Open</th>\n",
       "      <th>High</th>\n",
       "      <th>Low</th>\n",
       "      <th>QQQ_Close</th>\n",
       "      <th>SnP_Close</th>\n",
       "      <th>DJIA_Close</th>\n",
       "      <th>Close</th>\n",
       "      <th>Diff</th>\n",
       "      <th>High-low</th>\n",
       "    </tr>\n",
       "  </thead>\n",
       "  <tbody>\n",
       "    <tr>\n",
       "      <th>0</th>\n",
       "      <td>267.051235</td>\n",
       "      <td>268.488284</td>\n",
       "      <td>263.129302</td>\n",
       "      <td>283.289978</td>\n",
       "      <td>3483.340088</td>\n",
       "      <td>28494.199219</td>\n",
       "      <td>266.173035</td>\n",
       "      <td>-0.878200</td>\n",
       "      <td>5.358983</td>\n",
       "    </tr>\n",
       "    <tr>\n",
       "      <th>1</th>\n",
       "      <td>266.831682</td>\n",
       "      <td>270.813490</td>\n",
       "      <td>264.755931</td>\n",
       "      <td>281.737335</td>\n",
       "      <td>3483.810059</td>\n",
       "      <td>28606.310547</td>\n",
       "      <td>265.384644</td>\n",
       "      <td>-1.447039</td>\n",
       "      <td>6.057559</td>\n",
       "    </tr>\n",
       "    <tr>\n",
       "      <th>2</th>\n",
       "      <td>264.985457</td>\n",
       "      <td>267.999253</td>\n",
       "      <td>259.347050</td>\n",
       "      <td>277.137756</td>\n",
       "      <td>3426.919922</td>\n",
       "      <td>28195.419922</td>\n",
       "      <td>260.863922</td>\n",
       "      <td>-4.121535</td>\n",
       "      <td>8.652203</td>\n",
       "    </tr>\n",
       "    <tr>\n",
       "      <th>3</th>\n",
       "      <td>262.520550</td>\n",
       "      <td>269.146948</td>\n",
       "      <td>262.340926</td>\n",
       "      <td>277.733490</td>\n",
       "      <td>3443.120117</td>\n",
       "      <td>28308.789062</td>\n",
       "      <td>267.011322</td>\n",
       "      <td>4.490772</td>\n",
       "      <td>6.806022</td>\n",
       "    </tr>\n",
       "    <tr>\n",
       "      <th>4</th>\n",
       "      <td>278.986701</td>\n",
       "      <td>282.469535</td>\n",
       "      <td>275.803241</td>\n",
       "      <td>277.518707</td>\n",
       "      <td>3435.560059</td>\n",
       "      <td>28210.820312</td>\n",
       "      <td>278.158417</td>\n",
       "      <td>-0.828285</td>\n",
       "      <td>6.666294</td>\n",
       "    </tr>\n",
       "  </tbody>\n",
       "</table>\n",
       "</div>"
      ],
      "text/plain": [
       "         Open        High         Low   QQQ_Close    SnP_Close    DJIA_Close  \\\n",
       "0  267.051235  268.488284  263.129302  283.289978  3483.340088  28494.199219   \n",
       "1  266.831682  270.813490  264.755931  281.737335  3483.810059  28606.310547   \n",
       "2  264.985457  267.999253  259.347050  277.137756  3426.919922  28195.419922   \n",
       "3  262.520550  269.146948  262.340926  277.733490  3443.120117  28308.789062   \n",
       "4  278.986701  282.469535  275.803241  277.518707  3435.560059  28210.820312   \n",
       "\n",
       "        Close      Diff  High-low  \n",
       "0  266.173035 -0.878200  5.358983  \n",
       "1  265.384644 -1.447039  6.057559  \n",
       "2  260.863922 -4.121535  8.652203  \n",
       "3  267.011322  4.490772  6.806022  \n",
       "4  278.158417 -0.828285  6.666294  "
      ]
     },
     "execution_count": 3,
     "metadata": {},
     "output_type": "execute_result"
    }
   ],
   "source": [
    "Stock = pd.read_csv(file_path)\n",
    "#best features\n",
    "features_selected = ['Open','High', 'Low','QQQ_Close', 'SnP_Close', 'DJIA_Close', 'Close(t)']\n",
    "df_Stock = Stock[features_selected]\n",
    "df_Stock = df_Stock.iloc[:-100, :]\n",
    "df_Stock = df_Stock.rename(columns={'Close(t)':'Close'})\n",
    "\n",
    "df_Stock['Diff'] = df_Stock['Close'] - df_Stock['Open']\n",
    "df_Stock['High-low'] = df_Stock['High'] - df_Stock['Low']\n",
    "\n",
    "df_Stock.head()"
   ]
  },
  {
   "cell_type": "code",
   "execution_count": 5,
   "metadata": {},
   "outputs": [
    {
     "data": {
      "image/png": "[encoded data removed]",
      "text/plain": [
       "<Figure size 640x480 with 1 Axes>"
      ]
     },
     "metadata": {},
     "output_type": "display_data"
    }
   ],
   "source": [
    "from matplotlib import pyplot as plt\n",
    "plt.figure()\n",
    "plt.plot(df_Stock[\"High\"])\n",
    "plt.plot(df_Stock[\"Low\"])\n",
    "plt.plot(df_Stock[\"Close\"])\n",
    "plt.title('Meta stock price history')\n",
    "plt.ylabel('Price (USD)')\n",
    "plt.xlabel('Days')\n",
    "plt.legend(['Open','High','Low','Close'], loc='upper left')\n",
    "plt.show()"
   ]
  },
  {
   "cell_type": "markdown",
   "metadata": {},
   "source": [
    "### Create Lagged Features for getting Previous day prices for a lookback of 30 days"
   ]
  },
  {
   "cell_type": "code",
   "execution_count": 6,
   "metadata": {},
   "outputs": [],
   "source": [
    "def prepare_lagged_features(df_Stock, lag_stock, lag_index):\n",
    "\n",
    "        print('Preparing Lagged Features for Stock, Index Funds.....')\n",
    "        lags = range(1, lag_stock+1)\n",
    "        lag_cols= ['Close']\n",
    "        df_Stock=df_Stock.assign(**{\n",
    "            '{}(t-{})'.format(col, l): df_Stock[col].shift(l)\n",
    "            for l in lags\n",
    "            for col in lag_cols\n",
    "        })\n",
    "\n",
    "       \n",
    "        lags = range(1, lag_index+1)\n",
    "        lag_cols= ['QQQ_Close','SnP_Close','DJIA_Close']\n",
    "        df_Stock= df_Stock.assign(**{\n",
    "            '{}(t-{})'.format(col, l): df_Stock[col].shift(l)\n",
    "            for l in lags\n",
    "            for col in lag_cols\n",
    "        })\n",
    "\n",
    "        df_Stock = df_Stock.drop(columns=lag_cols)\n",
    "\n",
    "\n",
    "        remove_lags_na = max(lag_stock, lag_index) + 1\n",
    "        print('Removing NAN rows - ', str(remove_lags_na))\n",
    "        df_Stock = df_Stock.iloc[remove_lags_na:,]\n",
    "        return df_Stock\n"
   ]
  },
  {
   "cell_type": "code",
   "execution_count": 7,
   "metadata": {},
   "outputs": [
    {
     "name": "stdout",
     "output_type": "stream",
     "text": [
      "Preparing Lagged Features for Stock, Index Funds.....\n",
      "Removing NAN rows -  21\n"
     ]
    },
    {
     "data": {
      "text/html": [
       "<div>\n",
       "<style scoped>\n",
       "    .dataframe tbody tr th:only-of-type {\n",
       "        vertical-align: middle;\n",
       "    }\n",
       "\n",
       "    .dataframe tbody tr th {\n",
       "        vertical-align: top;\n",
       "    }\n",
       "\n",
       "    .dataframe thead th {\n",
       "        text-align: right;\n",
       "    }\n",
       "</style>\n",
       "<table border=\"1\" class=\"dataframe\">\n",
       "  <thead>\n",
       "    <tr style=\"text-align: right;\">\n",
       "      <th></th>\n",
       "      <th>Open</th>\n",
       "      <th>High</th>\n",
       "      <th>Low</th>\n",
       "      <th>Close</th>\n",
       "      <th>Diff</th>\n",
       "      <th>High-low</th>\n",
       "      <th>Close(t-1)</th>\n",
       "      <th>Close(t-2)</th>\n",
       "      <th>Close(t-3)</th>\n",
       "      <th>Close(t-4)</th>\n",
       "      <th>...</th>\n",
       "      <th>DJIA_Close(t-2)</th>\n",
       "      <th>QQQ_Close(t-3)</th>\n",
       "      <th>SnP_Close(t-3)</th>\n",
       "      <th>DJIA_Close(t-3)</th>\n",
       "      <th>QQQ_Close(t-4)</th>\n",
       "      <th>SnP_Close(t-4)</th>\n",
       "      <th>DJIA_Close(t-4)</th>\n",
       "      <th>QQQ_Close(t-5)</th>\n",
       "      <th>SnP_Close(t-5)</th>\n",
       "      <th>DJIA_Close(t-5)</th>\n",
       "    </tr>\n",
       "  </thead>\n",
       "  <tbody>\n",
       "    <tr>\n",
       "      <th>21</th>\n",
       "      <td>277.150459</td>\n",
       "      <td>277.190386</td>\n",
       "      <td>272.539939</td>\n",
       "      <td>276.382050</td>\n",
       "      <td>-0.768410</td>\n",
       "      <td>4.650447</td>\n",
       "      <td>274.515869</td>\n",
       "      <td>275.913025</td>\n",
       "      <td>271.871307</td>\n",
       "      <td>278.198303</td>\n",
       "      <td>...</td>\n",
       "      <td>29397.630859</td>\n",
       "      <td>276.766815</td>\n",
       "      <td>3545.530029</td>\n",
       "      <td>29420.919922</td>\n",
       "      <td>281.815430</td>\n",
       "      <td>3550.500000</td>\n",
       "      <td>29157.970703</td>\n",
       "      <td>287.694122</td>\n",
       "      <td>3509.439941</td>\n",
       "      <td>28323.400391</td>\n",
       "    </tr>\n",
       "    <tr>\n",
       "      <th>22</th>\n",
       "      <td>274.485954</td>\n",
       "      <td>278.837029</td>\n",
       "      <td>274.066832</td>\n",
       "      <td>278.387939</td>\n",
       "      <td>3.901986</td>\n",
       "      <td>4.770197</td>\n",
       "      <td>276.382050</td>\n",
       "      <td>274.515869</td>\n",
       "      <td>275.913025</td>\n",
       "      <td>271.871307</td>\n",
       "      <td>...</td>\n",
       "      <td>29080.169922</td>\n",
       "      <td>282.957977</td>\n",
       "      <td>3572.659912</td>\n",
       "      <td>29397.630859</td>\n",
       "      <td>276.766815</td>\n",
       "      <td>3545.530029</td>\n",
       "      <td>29420.919922</td>\n",
       "      <td>281.815430</td>\n",
       "      <td>3550.500000</td>\n",
       "      <td>29157.970703</td>\n",
       "    </tr>\n",
       "    <tr>\n",
       "      <th>23</th>\n",
       "      <td>277.110532</td>\n",
       "      <td>277.110532</td>\n",
       "      <td>272.729551</td>\n",
       "      <td>274.436035</td>\n",
       "      <td>-2.674497</td>\n",
       "      <td>4.380981</td>\n",
       "      <td>278.387939</td>\n",
       "      <td>276.382050</td>\n",
       "      <td>274.515869</td>\n",
       "      <td>275.913025</td>\n",
       "      <td>...</td>\n",
       "      <td>29479.810547</td>\n",
       "      <td>281.629883</td>\n",
       "      <td>3537.010010</td>\n",
       "      <td>29080.169922</td>\n",
       "      <td>282.957977</td>\n",
       "      <td>3572.659912</td>\n",
       "      <td>29397.630859</td>\n",
       "      <td>276.766815</td>\n",
       "      <td>3545.530029</td>\n",
       "      <td>29420.919922</td>\n",
       "    </tr>\n",
       "    <tr>\n",
       "      <th>24</th>\n",
       "      <td>273.957020</td>\n",
       "      <td>276.821160</td>\n",
       "      <td>271.282524</td>\n",
       "      <td>271.412262</td>\n",
       "      <td>-2.544758</td>\n",
       "      <td>5.538637</td>\n",
       "      <td>274.436035</td>\n",
       "      <td>278.387939</td>\n",
       "      <td>276.382050</td>\n",
       "      <td>274.515869</td>\n",
       "      <td>...</td>\n",
       "      <td>29950.439453</td>\n",
       "      <td>284.100494</td>\n",
       "      <td>3585.149902</td>\n",
       "      <td>29479.810547</td>\n",
       "      <td>281.629883</td>\n",
       "      <td>3537.010010</td>\n",
       "      <td>29080.169922</td>\n",
       "      <td>282.957977</td>\n",
       "      <td>3572.659912</td>\n",
       "      <td>29397.630859</td>\n",
       "    </tr>\n",
       "    <tr>\n",
       "      <th>25</th>\n",
       "      <td>270.464204</td>\n",
       "      <td>272.909191</td>\n",
       "      <td>268.637970</td>\n",
       "      <td>272.380280</td>\n",
       "      <td>1.916076</td>\n",
       "      <td>4.271222</td>\n",
       "      <td>271.412262</td>\n",
       "      <td>274.436035</td>\n",
       "      <td>278.387939</td>\n",
       "      <td>276.382050</td>\n",
       "      <td>...</td>\n",
       "      <td>29783.349609</td>\n",
       "      <td>286.317200</td>\n",
       "      <td>3626.909912</td>\n",
       "      <td>29950.439453</td>\n",
       "      <td>284.100494</td>\n",
       "      <td>3585.149902</td>\n",
       "      <td>29479.810547</td>\n",
       "      <td>281.629883</td>\n",
       "      <td>3537.010010</td>\n",
       "      <td>29080.169922</td>\n",
       "    </tr>\n",
       "  </tbody>\n",
       "</table>\n",
       "<p>5 rows × 41 columns</p>\n",
       "</div>"
      ],
      "text/plain": [
       "          Open        High         Low       Close      Diff  High-low  \\\n",
       "21  277.150459  277.190386  272.539939  276.382050 -0.768410  4.650447   \n",
       "22  274.485954  278.837029  274.066832  278.387939  3.901986  4.770197   \n",
       "23  277.110532  277.110532  272.729551  274.436035 -2.674497  4.380981   \n",
       "24  273.957020  276.821160  271.282524  271.412262 -2.544758  5.538637   \n",
       "25  270.464204  272.909191  268.637970  272.380280  1.916076  4.271222   \n",
       "\n",
       "    Close(t-1)  Close(t-2)  Close(t-3)  Close(t-4)  ...  DJIA_Close(t-2)  \\\n",
       "21  274.515869  275.913025  271.871307  278.198303  ...     29397.630859   \n",
       "22  276.382050  274.515869  275.913025  271.871307  ...     29080.169922   \n",
       "23  278.387939  276.382050  274.515869  275.913025  ...     29479.810547   \n",
       "24  274.436035  278.387939  276.382050  274.515869  ...     29950.439453   \n",
       "25  271.412262  274.436035  278.387939  276.382050  ...     29783.349609   \n",
       "\n",
       "    QQQ_Close(t-3)  SnP_Close(t-3)  DJIA_Close(t-3)  QQQ_Close(t-4)  \\\n",
       "21      276.766815     3545.530029     29420.919922      281.815430   \n",
       "22      282.957977     3572.659912     29397.630859      276.766815   \n",
       "23      281.629883     3537.010010     29080.169922      282.957977   \n",
       "24      284.100494     3585.149902     29479.810547      281.629883   \n",
       "25      286.317200     3626.909912     29950.439453      284.100494   \n",
       "\n",
       "    SnP_Close(t-4)  DJIA_Close(t-4)  QQQ_Close(t-5)  SnP_Close(t-5)  \\\n",
       "21     3550.500000     29157.970703      287.694122     3509.439941   \n",
       "22     3545.530029     29420.919922      281.815430     3550.500000   \n",
       "23     3572.659912     29397.630859      276.766815     3545.530029   \n",
       "24     3537.010010     29080.169922      282.957977     3572.659912   \n",
       "25     3585.149902     29479.810547      281.629883     3537.010010   \n",
       "\n",
       "    DJIA_Close(t-5)  \n",
       "21     28323.400391  \n",
       "22     29157.970703  \n",
       "23     29420.919922  \n",
       "24     29397.630859  \n",
       "25     29080.169922  \n",
       "\n",
       "[5 rows x 41 columns]"
      ]
     },
     "execution_count": 7,
     "metadata": {},
     "output_type": "execute_result"
    }
   ],
   "source": [
    "df_Stock = prepare_lagged_features(df_Stock, lag_stock = 20, lag_index = 5)\n",
    "df_Stock.head()"
   ]
  },
  {
   "cell_type": "code",
   "execution_count": 8,
   "metadata": {},
   "outputs": [],
   "source": [
    "df_Stock = df_Stock.drop(columns=['Open', 'High', 'Low'])"
   ]
  },
  {
   "cell_type": "code",
   "execution_count": 9,
   "metadata": {},
   "outputs": [
    {
     "data": {
      "text/plain": [
       "(421, 38)"
      ]
     },
     "execution_count": 9,
     "metadata": {},
     "output_type": "execute_result"
    }
   ],
   "source": [
    "df_Stock= df_Stock.iloc[31:452,]\n",
    "df_Stock.shape"
   ]
  },
  {
   "cell_type": "code",
   "execution_count": 10,
   "metadata": {},
   "outputs": [],
   "source": [
    "train=df_Stock.iloc[:340,]\n",
    "test=df_Stock.iloc[340:,]"
   ]
  },
  {
   "cell_type": "code",
   "execution_count": 11,
   "metadata": {},
   "outputs": [
    {
     "data": {
      "text/plain": [
       "Index(['Close', 'Diff', 'High-low', 'Close(t-1)', 'Close(t-2)', 'Close(t-3)',\n",
       "       'Close(t-4)', 'Close(t-5)', 'Close(t-6)', 'Close(t-7)', 'Close(t-8)',\n",
       "       'Close(t-9)', 'Close(t-10)', 'Close(t-11)', 'Close(t-12)',\n",
       "       'Close(t-13)', 'Close(t-14)', 'Close(t-15)', 'Close(t-16)',\n",
       "       'Close(t-17)', 'Close(t-18)', 'Close(t-19)', 'Close(t-20)',\n",
       "       'QQQ_Close(t-1)', 'SnP_Close(t-1)', 'DJIA_Close(t-1)', 'QQQ_Close(t-2)',\n",
       "       'SnP_Close(t-2)', 'DJIA_Close(t-2)', 'QQQ_Close(t-3)', 'SnP_Close(t-3)',\n",
       "       'DJIA_Close(t-3)', 'QQQ_Close(t-4)', 'SnP_Close(t-4)',\n",
       "       'DJIA_Close(t-4)', 'QQQ_Close(t-5)', 'SnP_Close(t-5)',\n",
       "       'DJIA_Close(t-5)'],\n",
       "      dtype='object')"
      ]
     },
     "execution_count": 11,
     "metadata": {},
     "output_type": "execute_result"
    }
   ],
   "source": [
    "train.columns"
   ]
  },
  {
   "cell_type": "code",
   "execution_count": 12,
   "metadata": {},
   "outputs": [],
   "source": [
    "Y_train= train[['Close']]\n",
    "X_train=train[['Diff', 'High-low', 'Close(t-1)', 'Close(t-2)', 'Close(t-3)',\n",
    "       'Close(t-4)', 'Close(t-5)', 'Close(t-6)', 'Close(t-7)', 'Close(t-8)',\n",
    "       'Close(t-9)', 'Close(t-10)', 'Close(t-11)', 'Close(t-12)',\n",
    "       'Close(t-13)', 'Close(t-14)', 'Close(t-15)', 'Close(t-16)',\n",
    "       'Close(t-17)', 'Close(t-18)', 'Close(t-19)', 'Close(t-20)',\n",
    "       'QQQ_Close(t-1)', 'SnP_Close(t-1)', 'DJIA_Close(t-1)', 'QQQ_Close(t-2)',\n",
    "       'SnP_Close(t-2)', 'DJIA_Close(t-2)', 'QQQ_Close(t-3)', 'SnP_Close(t-3)',\n",
    "       'DJIA_Close(t-3)', 'QQQ_Close(t-4)', 'SnP_Close(t-4)',\n",
    "       'DJIA_Close(t-4)', 'QQQ_Close(t-5)', 'SnP_Close(t-5)',\n",
    "       'DJIA_Close(t-5)']]\n",
    "\n",
    "\n",
    "\n",
    "Y_test= test[['Close']]\n",
    "X_test= test[['Diff', 'High-low', 'Close(t-1)', 'Close(t-2)', 'Close(t-3)',\n",
    "       'Close(t-4)', 'Close(t-5)', 'Close(t-6)', 'Close(t-7)', 'Close(t-8)',\n",
    "       'Close(t-9)', 'Close(t-10)', 'Close(t-11)', 'Close(t-12)',\n",
    "       'Close(t-13)', 'Close(t-14)', 'Close(t-15)', 'Close(t-16)',\n",
    "       'Close(t-17)', 'Close(t-18)', 'Close(t-19)', 'Close(t-20)',\n",
    "       'QQQ_Close(t-1)', 'SnP_Close(t-1)', 'DJIA_Close(t-1)', 'QQQ_Close(t-2)',\n",
    "       'SnP_Close(t-2)', 'DJIA_Close(t-2)', 'QQQ_Close(t-3)', 'SnP_Close(t-3)',\n",
    "       'DJIA_Close(t-3)', 'QQQ_Close(t-4)', 'SnP_Close(t-4)',\n",
    "       'DJIA_Close(t-4)', 'QQQ_Close(t-5)', 'SnP_Close(t-5)',\n",
    "       'DJIA_Close(t-5)']]"
   ]
  },
  {
   "cell_type": "markdown",
   "metadata": {},
   "source": [
    "### Scale features for LSTM Training"
   ]
  },
  {
   "cell_type": "code",
   "execution_count": 13,
   "metadata": {},
   "outputs": [],
   "source": [
    "scaler = MinMaxScaler(feature_range=(0, 1))\n",
    "scaled_data = scaler.fit_transform(Y_train)"
   ]
  },
  {
   "cell_type": "code",
   "execution_count": 14,
   "metadata": {},
   "outputs": [],
   "source": [
    "x_train, y_train = [], []\n",
    "for i in range(60,len(Y_train)):\n",
    "    x_train.append(scaled_data[i-60:i,0])\n",
    "    y_train.append(scaled_data[i,0])\n",
    "x_train, y_train = np.array(x_train), np.array(y_train)\n",
    "x_train = np.reshape(x_train, (x_train.shape[0],x_train.shape[1],1))"
   ]
  },
  {
   "cell_type": "markdown",
   "metadata": {},
   "source": [
    "### Create and fit the LSTM network"
   ]
  },
  {
   "cell_type": "code",
   "execution_count": 15,
   "metadata": {},
   "outputs": [
    {
     "data": {
      "text/html": [
       "<pre style=\"white-space:pre;overflow-x:auto;line-height:normal;font-family:Menlo,'DejaVu Sans Mono',consolas,'Courier New',monospace\"><span style=\"font-weight: bold\">Model: \"sequential\"</span>\n",
       "</pre>\n"
      ],
      "text/plain": [
       "\u001b[1mModel: \"sequential\"\u001b[0m\n"
      ]
     },
     "metadata": {},
     "output_type": "display_data"
    },
    {
     "data": {
      "text/html": [
       "<pre style=\"white-space:pre;overflow-x:auto;line-height:normal;font-family:Menlo,'DejaVu Sans Mono',consolas,'Courier New',monospace\">┏━━━━━━━━━━━━━━━━━━━━━━━━━━━━━━━━━┳━━━━━━━━━━━━━━━━━━━━━━━━┳━━━━━━━━━━━━━━━┓\n",
       "┃<span style=\"font-weight: bold\"> Layer (type)                    </span>┃<span style=\"font-weight: bold\"> Output Shape           </span>┃<span style=\"font-weight: bold\">       Param # </span>┃\n",
       "┡━━━━━━━━━━━━━━━━━━━━━━━━━━━━━━━━━╇━━━━━━━━━━━━━━━━━━━━━━━━╇━━━━━━━━━━━━━━━┩\n",
       "│ lstm (<span style=\"color: #0087ff; text-decoration-color: #0087ff\">LSTM</span>)                     │ (<span style=\"color: #00d7ff; text-decoration-color: #00d7ff\">None</span>, <span style=\"color: #00af00; text-decoration-color: #00af00\">60</span>, <span style=\"color: #00af00; text-decoration-color: #00af00\">50</span>)         │        <span style=\"color: #00af00; text-decoration-color: #00af00\">10,400</span> │\n",
       "├─────────────────────────────────┼────────────────────────┼───────────────┤\n",
       "│ lstm_1 (<span style=\"color: #0087ff; text-decoration-color: #0087ff\">LSTM</span>)                   │ (<span style=\"color: #00d7ff; text-decoration-color: #00d7ff\">None</span>, <span style=\"color: #00af00; text-decoration-color: #00af00\">50</span>)             │        <span style=\"color: #00af00; text-decoration-color: #00af00\">20,200</span> │\n",
       "├─────────────────────────────────┼────────────────────────┼───────────────┤\n",
       "│ dense (<span style=\"color: #0087ff; text-decoration-color: #0087ff\">Dense</span>)                   │ (<span style=\"color: #00d7ff; text-decoration-color: #00d7ff\">None</span>, <span style=\"color: #00af00; text-decoration-color: #00af00\">1</span>)              │            <span style=\"color: #00af00; text-decoration-color: #00af00\">51</span> │\n",
       "└─────────────────────────────────┴────────────────────────┴───────────────┘\n",
       "</pre>\n"
      ],
      "text/plain": [
       "┏━━━━━━━━━━━━━━━━━━━━━━━━━━━━━━━━━┳━━━━━━━━━━━━━━━━━━━━━━━━┳━━━━━━━━━━━━━━━┓\n",
       "┃\u001b[1m \u001b[0m\u001b[1mLayer (type)                   \u001b[0m\u001b[1m \u001b[0m┃\u001b[1m \u001b[0m\u001b[1mOutput Shape          \u001b[0m\u001b[1m \u001b[0m┃\u001b[1m \u001b[0m\u001b[1m      Param #\u001b[0m\u001b[1m \u001b[0m┃\n",
       "┡━━━━━━━━━━━━━━━━━━━━━━━━━━━━━━━━━╇━━━━━━━━━━━━━━━━━━━━━━━━╇━━━━━━━━━━━━━━━┩\n",
       "│ lstm (\u001b[38;5;33mLSTM\u001b[0m)                     │ (\u001b[38;5;45mNone\u001b[0m, \u001b[38;5;34m60\u001b[0m, \u001b[38;5;34m50\u001b[0m)         │        \u001b[38;5;34m10,400\u001b[0m │\n",
       "├─────────────────────────────────┼────────────────────────┼───────────────┤\n",
       "│ lstm_1 (\u001b[38;5;33mLSTM\u001b[0m)                   │ (\u001b[38;5;45mNone\u001b[0m, \u001b[38;5;34m50\u001b[0m)             │        \u001b[38;5;34m20,200\u001b[0m │\n",
       "├─────────────────────────────────┼────────────────────────┼───────────────┤\n",
       "│ dense (\u001b[38;5;33mDense\u001b[0m)                   │ (\u001b[38;5;45mNone\u001b[0m, \u001b[38;5;34m1\u001b[0m)              │            \u001b[38;5;34m51\u001b[0m │\n",
       "└─────────────────────────────────┴────────────────────────┴───────────────┘\n"
      ]
     },
     "metadata": {},
     "output_type": "display_data"
    },
    {
     "data": {
      "text/html": [
       "<pre style=\"white-space:pre;overflow-x:auto;line-height:normal;font-family:Menlo,'DejaVu Sans Mono',consolas,'Courier New',monospace\"><span style=\"font-weight: bold\"> Total params: </span><span style=\"color: #00af00; text-decoration-color: #00af00\">30,651</span> (119.73 KB)\n",
       "</pre>\n"
      ],
      "text/plain": [
       "\u001b[1m Total params: \u001b[0m\u001b[38;5;34m30,651\u001b[0m (119.73 KB)\n"
      ]
     },
     "metadata": {},
     "output_type": "display_data"
    },
    {
     "data": {
      "text/html": [
       "<pre style=\"white-space:pre;overflow-x:auto;line-height:normal;font-family:Menlo,'DejaVu Sans Mono',consolas,'Courier New',monospace\"><span style=\"font-weight: bold\"> Trainable params: </span><span style=\"color: #00af00; text-decoration-color: #00af00\">30,651</span> (119.73 KB)\n",
       "</pre>\n"
      ],
      "text/plain": [
       "\u001b[1m Trainable params: \u001b[0m\u001b[38;5;34m30,651\u001b[0m (119.73 KB)\n"
      ]
     },
     "metadata": {},
     "output_type": "display_data"
    },
    {
     "data": {
      "text/html": [
       "<pre style=\"white-space:pre;overflow-x:auto;line-height:normal;font-family:Menlo,'DejaVu Sans Mono',consolas,'Courier New',monospace\"><span style=\"font-weight: bold\"> Non-trainable params: </span><span style=\"color: #00af00; text-decoration-color: #00af00\">0</span> (0.00 B)\n",
       "</pre>\n"
      ],
      "text/plain": [
       "\u001b[1m Non-trainable params: \u001b[0m\u001b[38;5;34m0\u001b[0m (0.00 B)\n"
      ]
     },
     "metadata": {},
     "output_type": "display_data"
    }
   ],
   "source": [
    "lstm = Sequential()\n",
    "lstm.add(LSTM(units=50, return_sequences=True, input_shape=(x_train.shape[1],1)))\n",
    "lstm.add(LSTM(units=50))\n",
    "lstm.add(Dense(1))\n",
    "\n",
    "lstm.compile(loss='mean_squared_error', optimizer='adam')\n",
    "lstm.summary()\n"
   ]
  },
  {
   "cell_type": "code",
   "execution_count": 16,
   "metadata": {},
   "outputs": [
    {
     "name": "stdout",
     "output_type": "stream",
     "text": [
      "Epoch 1/25\n",
      "56/56 - 5s - 80ms/step - loss: 0.0431\n",
      "Epoch 2/25\n",
      "56/56 - 1s - 20ms/step - loss: 0.0081\n",
      "Epoch 3/25\n",
      "56/56 - 1s - 21ms/step - loss: 0.0066\n",
      "Epoch 4/25\n",
      "56/56 - 1s - 20ms/step - loss: 0.0057\n",
      "Epoch 5/25\n",
      "56/56 - 1s - 20ms/step - loss: 0.0065\n",
      "Epoch 6/25\n",
      "56/56 - 1s - 20ms/step - loss: 0.0060\n",
      "Epoch 7/25\n",
      "56/56 - 1s - 21ms/step - loss: 0.0052\n",
      "Epoch 8/25\n",
      "56/56 - 1s - 26ms/step - loss: 0.0046\n",
      "Epoch 9/25\n",
      "56/56 - 1s - 20ms/step - loss: 0.0045\n",
      "Epoch 10/25\n",
      "56/56 - 1s - 20ms/step - loss: 0.0068\n",
      "Epoch 11/25\n",
      "56/56 - 1s - 21ms/step - loss: 0.0048\n",
      "Epoch 12/25\n",
      "56/56 - 1s - 20ms/step - loss: 0.0042\n",
      "Epoch 13/25\n",
      "56/56 - 1s - 23ms/step - loss: 0.0043\n",
      "Epoch 14/25\n",
      "56/56 - 1s - 22ms/step - loss: 0.0042\n",
      "Epoch 15/25\n",
      "56/56 - 1s - 21ms/step - loss: 0.0043\n",
      "Epoch 16/25\n",
      "56/56 - 1s - 22ms/step - loss: 0.0038\n",
      "Epoch 17/25\n",
      "56/56 - 1s - 22ms/step - loss: 0.0041\n",
      "Epoch 18/25\n",
      "56/56 - 1s - 21ms/step - loss: 0.0039\n",
      "Epoch 19/25\n",
      "56/56 - 1s - 19ms/step - loss: 0.0034\n",
      "Epoch 20/25\n",
      "56/56 - 1s - 20ms/step - loss: 0.0037\n",
      "Epoch 21/25\n",
      "56/56 - 1s - 24ms/step - loss: 0.0033\n",
      "Epoch 22/25\n",
      "56/56 - 3s - 45ms/step - loss: 0.0032\n",
      "Epoch 23/25\n",
      "56/56 - 1s - 20ms/step - loss: 0.0029\n",
      "Epoch 24/25\n",
      "56/56 - 1s - 20ms/step - loss: 0.0030\n",
      "Epoch 25/25\n",
      "56/56 - 1s - 22ms/step - loss: 0.0027\n"
     ]
    }
   ],
   "source": [
    "history_lstm = lstm.fit(x_train, y_train, epochs=25, batch_size=5, verbose=2)"
   ]
  },
  {
   "cell_type": "code",
   "execution_count": 17,
   "metadata": {},
   "outputs": [
    {
     "data": {
      "text/plain": [
       "dict_keys(['loss'])"
      ]
     },
     "execution_count": 17,
     "metadata": {},
     "output_type": "execute_result"
    }
   ],
   "source": [
    "history_lstm.history.keys()"
   ]
  },
  {
   "cell_type": "code",
   "execution_count": 18,
   "metadata": {},
   "outputs": [
    {
     "data": {
      "image/png": "[encoded data removed]",
      "text/plain": [
       "<Figure size 640x480 with 1 Axes>"
      ]
     },
     "metadata": {},
     "output_type": "display_data"
    }
   ],
   "source": [
    "plt.plot(history_lstm.history['loss'], label='train')\n",
    "#plt.plot(history_lstm.history['val_loss'], label='test')\n",
    "plt.legend()\n",
    "plt.show()"
   ]
  },
  {
   "cell_type": "code",
   "execution_count": 19,
   "metadata": {},
   "outputs": [],
   "source": [
    "new_df_Stock = df_Stock['Close']"
   ]
  },
  {
   "cell_type": "code",
   "execution_count": 20,
   "metadata": {},
   "outputs": [],
   "source": [
    "#predicting 246 values, using past 60 from the train data\n",
    "inputs = new_df_Stock[len(new_df_Stock) - len(Y_test) - 60:].values\n",
    "inputs = inputs.reshape(-1,1)\n",
    "inputs  = scaler.transform(inputs)"
   ]
  },
  {
   "cell_type": "code",
   "execution_count": 21,
   "metadata": {},
   "outputs": [
    {
     "name": "stdout",
     "output_type": "stream",
     "text": [
      "\u001b[1m3/3\u001b[0m \u001b[32m━━━━━━━━━━━━━━━━━━━━\u001b[0m\u001b[37m\u001b[0m \u001b[1m1s\u001b[0m 172ms/step\n"
     ]
    }
   ],
   "source": [
    "X_test = []\n",
    "for i in range(60,inputs.shape[0]):\n",
    "    X_test.append(inputs[i-60:i,0])\n",
    "X_test = np.array(X_test)\n",
    "\n",
    "X_test = np.reshape(X_test, (X_test.shape[0],X_test.shape[1],1))\n",
    "closing_price = lstm.predict(X_test)\n",
    "closing_price = scaler.inverse_transform(closing_price)"
   ]
  },
  {
   "cell_type": "code",
   "execution_count": 23,
   "metadata": {},
   "outputs": [
    {
     "data": {
      "text/plain": [
       "10.288336199510965"
      ]
     },
     "execution_count": 23,
     "metadata": {},
     "output_type": "execute_result"
    }
   ],
   "source": [
    "rms=np.sqrt(np.mean(np.power((Y_test-closing_price),2)))\n",
    "rms"
   ]
  },
  {
   "cell_type": "code",
   "execution_count": 24,
   "metadata": {},
   "outputs": [
    {
     "data": {
      "text/plain": [
       "array([[211.17986],\n",
       "       [211.01862],\n",
       "       [208.41032],\n",
       "       [205.66153],\n",
       "       [201.79758],\n",
       "       [198.7445 ],\n",
       "       [197.85231],\n",
       "       [198.21954],\n",
       "       [199.49318],\n",
       "       [199.09277],\n",
       "       [197.97487],\n",
       "       [197.16162],\n",
       "       [197.07117],\n",
       "       [194.76186],\n",
       "       [192.47098],\n",
       "       [191.87009],\n",
       "       [192.63194],\n",
       "       [193.57672],\n",
       "       [193.60344],\n",
       "       [194.95625],\n",
       "       [195.23526],\n",
       "       [195.6192 ],\n",
       "       [196.19926],\n",
       "       [196.91705],\n",
       "       [195.42606],\n",
       "       [191.98164],\n",
       "       [186.65656],\n",
       "       [181.53072],\n",
       "       [178.22234],\n",
       "       [175.02286],\n",
       "       [172.81963],\n",
       "       [170.50127],\n",
       "       [168.35085],\n",
       "       [167.0059 ],\n",
       "       [167.74855],\n",
       "       [169.26553],\n",
       "       [169.68375],\n",
       "       [169.94049],\n",
       "       [169.73073],\n",
       "       [169.16978],\n",
       "       [169.62753],\n",
       "       [170.71086],\n",
       "       [172.23186],\n",
       "       [173.52274],\n",
       "       [173.37576],\n",
       "       [172.65094],\n",
       "       [171.8282 ],\n",
       "       [170.36609],\n",
       "       [169.74382],\n",
       "       [169.96051],\n",
       "       [171.69492],\n",
       "       [174.90034],\n",
       "       [178.29091],\n",
       "       [179.1557 ],\n",
       "       [178.3579 ],\n",
       "       [175.92195],\n",
       "       [174.6542 ],\n",
       "       [172.89798],\n",
       "       [170.99019],\n",
       "       [169.4474 ],\n",
       "       [168.35796],\n",
       "       [168.79494],\n",
       "       [170.11932],\n",
       "       [171.15912],\n",
       "       [172.31639],\n",
       "       [173.10748],\n",
       "       [174.97102],\n",
       "       [176.91827],\n",
       "       [179.00836],\n",
       "       [180.87254],\n",
       "       [182.10497],\n",
       "       [182.15424],\n",
       "       [181.65314],\n",
       "       [180.02037],\n",
       "       [177.48755],\n",
       "       [174.74512],\n",
       "       [172.68219],\n",
       "       [172.02223],\n",
       "       [171.13982],\n",
       "       [169.93697],\n",
       "       [168.5216 ]], dtype=float32)"
      ]
     },
     "execution_count": 24,
     "metadata": {},
     "output_type": "execute_result"
    }
   ],
   "source": [
    "closing_price"
   ]
  },
  {
   "cell_type": "code",
   "execution_count": 25,
   "metadata": {},
   "outputs": [
    {
     "data": {
      "text/plain": [
       "(81, 1)"
      ]
     },
     "execution_count": 25,
     "metadata": {},
     "output_type": "execute_result"
    }
   ],
   "source": [
    "closing_price.shape"
   ]
  },
  {
   "cell_type": "code",
   "execution_count": 26,
   "metadata": {},
   "outputs": [
    {
     "data": {
      "text/html": [
       "<div>\n",
       "<style scoped>\n",
       "    .dataframe tbody tr th:only-of-type {\n",
       "        vertical-align: middle;\n",
       "    }\n",
       "\n",
       "    .dataframe tbody tr th {\n",
       "        vertical-align: top;\n",
       "    }\n",
       "\n",
       "    .dataframe thead th {\n",
       "        text-align: right;\n",
       "    }\n",
       "</style>\n",
       "<table border=\"1\" class=\"dataframe\">\n",
       "  <thead>\n",
       "    <tr style=\"text-align: right;\">\n",
       "      <th></th>\n",
       "      <th>Close</th>\n",
       "    </tr>\n",
       "  </thead>\n",
       "  <tbody>\n",
       "    <tr>\n",
       "      <th>392</th>\n",
       "      <td>203.352127</td>\n",
       "    </tr>\n",
       "    <tr>\n",
       "      <th>393</th>\n",
       "      <td>195.807632</td>\n",
       "    </tr>\n",
       "    <tr>\n",
       "      <th>394</th>\n",
       "      <td>197.244675</td>\n",
       "    </tr>\n",
       "    <tr>\n",
       "      <th>395</th>\n",
       "      <td>188.352951</td>\n",
       "    </tr>\n",
       "    <tr>\n",
       "      <th>396</th>\n",
       "      <td>190.847824</td>\n",
       "    </tr>\n",
       "    <tr>\n",
       "      <th>...</th>\n",
       "      <td>...</td>\n",
       "    </tr>\n",
       "    <tr>\n",
       "      <th>468</th>\n",
       "      <td>168.433868</td>\n",
       "    </tr>\n",
       "    <tr>\n",
       "      <th>469</th>\n",
       "      <td>161.448242</td>\n",
       "    </tr>\n",
       "    <tr>\n",
       "      <th>470</th>\n",
       "      <td>158.843582</td>\n",
       "    </tr>\n",
       "    <tr>\n",
       "      <th>471</th>\n",
       "      <td>156.837723</td>\n",
       "    </tr>\n",
       "    <tr>\n",
       "      <th>472</th>\n",
       "      <td>162.595871</td>\n",
       "    </tr>\n",
       "  </tbody>\n",
       "</table>\n",
       "<p>81 rows × 1 columns</p>\n",
       "</div>"
      ],
      "text/plain": [
       "          Close\n",
       "392  203.352127\n",
       "393  195.807632\n",
       "394  197.244675\n",
       "395  188.352951\n",
       "396  190.847824\n",
       "..          ...\n",
       "468  168.433868\n",
       "469  161.448242\n",
       "470  158.843582\n",
       "471  156.837723\n",
       "472  162.595871\n",
       "\n",
       "[81 rows x 1 columns]"
      ]
     },
     "execution_count": 26,
     "metadata": {},
     "output_type": "execute_result"
    }
   ],
   "source": [
    "Y_test"
   ]
  },
  {
   "cell_type": "code",
   "execution_count": 27,
   "metadata": {},
   "outputs": [],
   "source": [
    "def get_mape(y_true, y_pred): \n",
    "        \"\"\"\n",
    "        Compute mean absolute percentage error (MAPE)\n",
    "        \"\"\"\n",
    "        y_true, y_pred = np.array(y_true), np.array(y_pred)\n",
    "        return np.mean(np.abs((y_true - y_pred) / y_true)) * 100\n"
   ]
  },
  {
   "cell_type": "code",
   "execution_count": 28,
   "metadata": {},
   "outputs": [
    {
     "name": "stdout",
     "output_type": "stream",
     "text": [
      "R2 -  0.45\n",
      "MAPE -  9.32\n",
      "RMSE - 10.29\n",
      "MAE -  8.28\n"
     ]
    }
   ],
   "source": [
    "print('R2 - ',round(metrics.r2_score(Y_test.Close,closing_price),2))\n",
    "print('MAPE - ', round(get_mape(Y_test.Close,closing_price), 2))\n",
    "print('RMSE -', round(np.sqrt(metrics.mean_squared_error(Y_test.Close,closing_price)),2))\n",
    "print('MAE - ', round(metrics.mean_absolute_error(Y_test.Close,closing_price),2))\n"
   ]
  },
  {
   "cell_type": "code",
   "execution_count": 29,
   "metadata": {},
   "outputs": [
    {
     "data": {
      "text/plain": [
       "[<matplotlib.lines.Line2D at 0x2490b043ed0>,\n",
       " <matplotlib.lines.Line2D at 0x2490b050250>]"
      ]
     },
     "execution_count": 29,
     "metadata": {},
     "output_type": "execute_result"
    },
    {
     "data": {
      "image/png": "[encoded data removed]",
      "text/plain": [
       "<Figure size 640x480 with 1 Axes>"
      ]
     },
     "metadata": {},
     "output_type": "display_data"
    }
   ],
   "source": [
    "#for plotting\n",
    "test_result=Y_test\n",
    "test_result['predict']=closing_price\n",
    "plt.plot(train['Close'])\n",
    "plt.plot(test_result[['Close','predict']])"
   ]
  },
  {
   "cell_type": "markdown",
   "metadata": {},
   "source": [
    "### Conclusion"
   ]
  },
  {
   "cell_type": "markdown",
   "metadata": {},
   "source": [
    "We got Amazing results by using a 60 day lookup window for Previos Closing Prices, Index funds and by considering the difference between the High low prices.\n",
    "\n",
    "- R2 -  0.74\n",
    "- MAPE -  8.41\n",
    "- RMSE - 1.81\n",
    "- MAE -  1.5"
   ]
  },
  {
   "cell_type": "code",
   "execution_count": null,
   "metadata": {},
   "outputs": [],
   "source": []
  }
 ],
 "metadata": {
  "kernelspec": {
   "display_name": "Python 3",
   "language": "python",
   "name": "python3"
  },
  "language_info": {
   "codemirror_mode": {
    "name": "ipython",
    "version": 3
   },
   "file_extension": ".py",
   "mimetype": "text/x-python",
   "name": "python",
   "nbconvert_exporter": "python",
   "pygments_lexer": "ipython3",
   "version": "3.11.2"
  }
 },
 "nbformat": 4,
 "nbformat_minor": 2
}
