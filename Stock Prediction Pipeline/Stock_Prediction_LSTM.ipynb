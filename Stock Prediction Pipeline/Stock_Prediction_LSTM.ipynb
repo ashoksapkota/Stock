{
 "cells": [
  {
   "cell_type": "markdown",
   "metadata": {},
   "source": [
    "## LSTM with Multiple Time steps of Close Price as a Time Series Sequence\n",
    "\n",
    "In Previous notebook, we tried different algorithms like XG Boost, Random Forest and LSTM using Extensive feature extraction where we extracted around 60 features using different Technical Indicators as well as prices of other related  Index funds like Nasdaq-100 QQQ ETF, SNP 500 Index and DJIA Index fund. Linear Regression, Random Forest and XG Boost performed really well, on an average an MAE(Mean Absolute error) of around 0.36. We also checked for Feature importance using RF. But LSTM did not perform good with these features. As expected as we did not feed any long sequence of previous data. The  Indicators for a previous day is not enough for Long short term memory. \n",
    "\n",
    "In this Notebook, we will focus on the Close price sequence of previous days. And we we also tune the number of lagged days to consider for prediction. With LSTM, we will try a lookback of 30 days approx 1+ months to predict the price of next day. "
   ]
  },
  {
   "cell_type": "markdown",
   "metadata": {},
   "source": [
    "### Import the Libraries"
   ]
  },
  {
   "cell_type": "code",
   "execution_count": 1,
   "metadata": {},
   "outputs": [],
   "source": [
    "import pandas as pd\n",
    "import matplotlib.pyplot as plt\n",
    "from pylab import rcParams\n",
    "import numpy as np\n",
    "import seaborn as sns\n",
    "\n",
    "from sklearn.preprocessing import MinMaxScaler\n",
    "from keras.models import Sequential\n",
    "from keras.layers import Dense, Dropout, LSTM\n",
    "from sklearn.model_selection import cross_val_score, train_test_split\n",
    "from sklearn.model_selection import cross_validate,GridSearchCV\n",
    "from sklearn import metrics\n",
    "from sklearn.preprocessing import StandardScaler\n",
    "#from sklearn.feature_extraction import DictVectorizer\n",
    "#from sklearn.utils.multiclass import unique_labels\n",
    "# import scikitplot as skplt\n",
    "import matplotlib.pyplot as plt\n",
    "from matplotlib.colors import ListedColormap\n",
    "from mpl_toolkits.mplot3d import Axes3D\n",
    "\n",
    "import warnings\n",
    "warnings.filterwarnings('ignore')\n",
    "%matplotlib inline\n",
    "\n"
   ]
  },
  {
   "cell_type": "code",
   "execution_count": 2,
   "metadata": {},
   "outputs": [],
   "source": [
    "file_path = 'C:\\\\Users\\\\ashok\\\\Desktop\\\\SPPO\\\\Streamlit Web App\\\\Stock Data\\\\IBM.csv'"
   ]
  },
  {
   "cell_type": "code",
   "execution_count": 3,
   "metadata": {},
   "outputs": [
    {
     "data": {
      "text/html": [
       "<div>\n",
       "<style scoped>\n",
       "    .dataframe tbody tr th:only-of-type {\n",
       "        vertical-align: middle;\n",
       "    }\n",
       "\n",
       "    .dataframe tbody tr th {\n",
       "        vertical-align: top;\n",
       "    }\n",
       "\n",
       "    .dataframe thead th {\n",
       "        text-align: right;\n",
       "    }\n",
       "</style>\n",
       "<table border=\"1\" class=\"dataframe\">\n",
       "  <thead>\n",
       "    <tr style=\"text-align: right;\">\n",
       "      <th></th>\n",
       "      <th>Open</th>\n",
       "      <th>High</th>\n",
       "      <th>Low</th>\n",
       "      <th>QQQ_Close</th>\n",
       "      <th>SnP_Close</th>\n",
       "      <th>DJIA_Close</th>\n",
       "      <th>Close</th>\n",
       "      <th>Diff</th>\n",
       "      <th>High-low</th>\n",
       "    </tr>\n",
       "  </thead>\n",
       "  <tbody>\n",
       "    <tr>\n",
       "      <th>0</th>\n",
       "      <td>71.04</td>\n",
       "      <td>72.07</td>\n",
       "      <td>69.17</td>\n",
       "      <td>71.50</td>\n",
       "      <td>1374.62</td>\n",
       "      <td>10238.80</td>\n",
       "      <td>70.80</td>\n",
       "      <td>-0.24</td>\n",
       "      <td>2.90</td>\n",
       "    </tr>\n",
       "    <tr>\n",
       "      <th>1</th>\n",
       "      <td>71.32</td>\n",
       "      <td>72.55</td>\n",
       "      <td>69.17</td>\n",
       "      <td>68.23</td>\n",
       "      <td>1349.97</td>\n",
       "      <td>10089.71</td>\n",
       "      <td>71.99</td>\n",
       "      <td>0.67</td>\n",
       "      <td>3.38</td>\n",
       "    </tr>\n",
       "    <tr>\n",
       "      <th>2</th>\n",
       "      <td>61.64</td>\n",
       "      <td>63.15</td>\n",
       "      <td>57.50</td>\n",
       "      <td>68.01</td>\n",
       "      <td>1342.13</td>\n",
       "      <td>9975.02</td>\n",
       "      <td>60.80</td>\n",
       "      <td>-0.84</td>\n",
       "      <td>5.65</td>\n",
       "    </tr>\n",
       "    <tr>\n",
       "      <th>3</th>\n",
       "      <td>62.44</td>\n",
       "      <td>62.76</td>\n",
       "      <td>59.05</td>\n",
       "      <td>74.17</td>\n",
       "      <td>1388.76</td>\n",
       "      <td>10142.98</td>\n",
       "      <td>61.44</td>\n",
       "      <td>-1.00</td>\n",
       "      <td>3.71</td>\n",
       "    </tr>\n",
       "    <tr>\n",
       "      <th>4</th>\n",
       "      <td>60.61</td>\n",
       "      <td>61.32</td>\n",
       "      <td>60.01</td>\n",
       "      <td>75.26</td>\n",
       "      <td>1396.93</td>\n",
       "      <td>10226.59</td>\n",
       "      <td>60.37</td>\n",
       "      <td>-0.24</td>\n",
       "      <td>1.31</td>\n",
       "    </tr>\n",
       "  </tbody>\n",
       "</table>\n",
       "</div>"
      ],
      "text/plain": [
       "    Open   High    Low  QQQ_Close  SnP_Close  DJIA_Close  Close  Diff  \\\n",
       "0  71.04  72.07  69.17      71.50    1374.62    10238.80  70.80 -0.24   \n",
       "1  71.32  72.55  69.17      68.23    1349.97    10089.71  71.99  0.67   \n",
       "2  61.64  63.15  57.50      68.01    1342.13     9975.02  60.80 -0.84   \n",
       "3  62.44  62.76  59.05      74.17    1388.76    10142.98  61.44 -1.00   \n",
       "4  60.61  61.32  60.01      75.26    1396.93    10226.59  60.37 -0.24   \n",
       "\n",
       "   High-low  \n",
       "0      2.90  \n",
       "1      3.38  \n",
       "2      5.65  \n",
       "3      3.71  \n",
       "4      1.31  "
      ]
     },
     "execution_count": 3,
     "metadata": {},
     "output_type": "execute_result"
    }
   ],
   "source": [
    "Stock = pd.read_csv(file_path)\n",
    "#best features\n",
    "features_selected = ['Open','High', 'Low','QQQ_Close', 'SnP_Close', 'DJIA_Close', 'Close(t)']\n",
    "df_Stock = Stock[features_selected]\n",
    "df_Stock = df_Stock.iloc[:-100, :]\n",
    "df_Stock = df_Stock.rename(columns={'Close(t)':'Close'})\n",
    "\n",
    "df_Stock['Diff'] = df_Stock['Close'] - df_Stock['Open']\n",
    "df_Stock['High-low'] = df_Stock['High'] - df_Stock['Low']\n",
    "\n",
    "df_Stock.head()"
   ]
  },
  {
   "cell_type": "code",
   "execution_count": 4,
   "metadata": {},
   "outputs": [
    {
     "data": {
      "image/png": "[encoded data removed]",
      "text/plain": [
       "<Figure size 640x480 with 1 Axes>"
      ]
     },
     "metadata": {},
     "output_type": "display_data"
    }
   ],
   "source": [
    "from matplotlib import pyplot as plt\n",
    "plt.figure()\n",
    "plt.plot(df_Stock[\"High\"])\n",
    "plt.plot(df_Stock[\"Low\"])\n",
    "plt.plot(df_Stock[\"Close\"])\n",
    "plt.title('IBM stock price history')\n",
    "plt.ylabel('Price (USD)')\n",
    "plt.xlabel('Days')\n",
    "plt.legend(['Open','High','Low','Close'], loc='upper left')\n",
    "plt.show()"
   ]
  },
  {
   "cell_type": "markdown",
   "metadata": {},
   "source": [
    "### Create Lagged Features for getting Previous day prices for a lookback of 30 days"
   ]
  },
  {
   "cell_type": "code",
   "execution_count": 5,
   "metadata": {},
   "outputs": [],
   "source": [
    "def prepare_lagged_features(df_Stock, lag_stock, lag_index):\n",
    "\n",
    "        print('Preparing Lagged Features for Stock, Index Funds.....')\n",
    "        lags = range(1, lag_stock+1)\n",
    "        lag_cols= ['Close']\n",
    "        df_Stock=df_Stock.assign(**{\n",
    "            '{}(t-{})'.format(col, l): df_Stock[col].shift(l)\n",
    "            for l in lags\n",
    "            for col in lag_cols\n",
    "        })\n",
    "\n",
    "       \n",
    "        lags = range(1, lag_index+1)\n",
    "        lag_cols= ['QQQ_Close','SnP_Close','DJIA_Close']\n",
    "        df_Stock= df_Stock.assign(**{\n",
    "            '{}(t-{})'.format(col, l): df_Stock[col].shift(l)\n",
    "            for l in lags\n",
    "            for col in lag_cols\n",
    "        })\n",
    "\n",
    "        df_Stock = df_Stock.drop(columns=lag_cols)\n",
    "\n",
    "\n",
    "        remove_lags_na = max(lag_stock, lag_index) + 1\n",
    "        print('Removing NAN rows - ', str(remove_lags_na))\n",
    "        df_Stock = df_Stock.iloc[remove_lags_na:,]\n",
    "        return df_Stock\n"
   ]
  },
  {
   "cell_type": "code",
   "execution_count": 6,
   "metadata": {},
   "outputs": [
    {
     "name": "stdout",
     "output_type": "stream",
     "text": [
      "Preparing Lagged Features for Stock, Index Funds.....\n",
      "Removing NAN rows -  21\n"
     ]
    },
    {
     "data": {
      "text/html": [
       "<div>\n",
       "<style scoped>\n",
       "    .dataframe tbody tr th:only-of-type {\n",
       "        vertical-align: middle;\n",
       "    }\n",
       "\n",
       "    .dataframe tbody tr th {\n",
       "        vertical-align: top;\n",
       "    }\n",
       "\n",
       "    .dataframe thead th {\n",
       "        text-align: right;\n",
       "    }\n",
       "</style>\n",
       "<table border=\"1\" class=\"dataframe\">\n",
       "  <thead>\n",
       "    <tr style=\"text-align: right;\">\n",
       "      <th></th>\n",
       "      <th>Open</th>\n",
       "      <th>High</th>\n",
       "      <th>Low</th>\n",
       "      <th>Close</th>\n",
       "      <th>Diff</th>\n",
       "      <th>High-low</th>\n",
       "      <th>Close(t-1)</th>\n",
       "      <th>Close(t-2)</th>\n",
       "      <th>Close(t-3)</th>\n",
       "      <th>Close(t-4)</th>\n",
       "      <th>...</th>\n",
       "      <th>DJIA_Close(t-2)</th>\n",
       "      <th>QQQ_Close(t-3)</th>\n",
       "      <th>SnP_Close(t-3)</th>\n",
       "      <th>DJIA_Close(t-3)</th>\n",
       "      <th>QQQ_Close(t-4)</th>\n",
       "      <th>SnP_Close(t-4)</th>\n",
       "      <th>DJIA_Close(t-4)</th>\n",
       "      <th>QQQ_Close(t-5)</th>\n",
       "      <th>SnP_Close(t-5)</th>\n",
       "      <th>DJIA_Close(t-5)</th>\n",
       "    </tr>\n",
       "  </thead>\n",
       "  <tbody>\n",
       "    <tr>\n",
       "      <th>21</th>\n",
       "      <td>63.31</td>\n",
       "      <td>63.71</td>\n",
       "      <td>62.84</td>\n",
       "      <td>63.47</td>\n",
       "      <td>0.16</td>\n",
       "      <td>0.87</td>\n",
       "      <td>62.16</td>\n",
       "      <td>59.33</td>\n",
       "      <td>63.43</td>\n",
       "      <td>63.79</td>\n",
       "      <td>...</td>\n",
       "      <td>10602.95</td>\n",
       "      <td>66.00</td>\n",
       "      <td>1400.14</td>\n",
       "      <td>10834.25</td>\n",
       "      <td>66.01</td>\n",
       "      <td>1409.28</td>\n",
       "      <td>10907.06</td>\n",
       "      <td>71.61</td>\n",
       "      <td>1431.87</td>\n",
       "      <td>10952.18</td>\n",
       "    </tr>\n",
       "    <tr>\n",
       "      <th>22</th>\n",
       "      <td>63.47</td>\n",
       "      <td>63.83</td>\n",
       "      <td>62.28</td>\n",
       "      <td>63.39</td>\n",
       "      <td>-0.08</td>\n",
       "      <td>1.55</td>\n",
       "      <td>63.47</td>\n",
       "      <td>62.16</td>\n",
       "      <td>59.33</td>\n",
       "      <td>63.43</td>\n",
       "      <td>...</td>\n",
       "      <td>10517.25</td>\n",
       "      <td>62.56</td>\n",
       "      <td>1365.98</td>\n",
       "      <td>10602.95</td>\n",
       "      <td>66.00</td>\n",
       "      <td>1400.14</td>\n",
       "      <td>10834.25</td>\n",
       "      <td>66.01</td>\n",
       "      <td>1409.28</td>\n",
       "      <td>10907.06</td>\n",
       "    </tr>\n",
       "    <tr>\n",
       "      <th>23</th>\n",
       "      <td>63.31</td>\n",
       "      <td>63.59</td>\n",
       "      <td>62.68</td>\n",
       "      <td>62.68</td>\n",
       "      <td>-0.63</td>\n",
       "      <td>0.91</td>\n",
       "      <td>63.39</td>\n",
       "      <td>63.47</td>\n",
       "      <td>62.16</td>\n",
       "      <td>59.33</td>\n",
       "      <td>...</td>\n",
       "      <td>10681.06</td>\n",
       "      <td>62.66</td>\n",
       "      <td>1351.26</td>\n",
       "      <td>10517.25</td>\n",
       "      <td>62.56</td>\n",
       "      <td>1365.98</td>\n",
       "      <td>10602.95</td>\n",
       "      <td>66.00</td>\n",
       "      <td>1400.14</td>\n",
       "      <td>10834.25</td>\n",
       "    </tr>\n",
       "    <tr>\n",
       "      <th>24</th>\n",
       "      <td>62.72</td>\n",
       "      <td>65.39</td>\n",
       "      <td>62.68</td>\n",
       "      <td>65.03</td>\n",
       "      <td>2.31</td>\n",
       "      <td>2.71</td>\n",
       "      <td>62.68</td>\n",
       "      <td>63.39</td>\n",
       "      <td>63.47</td>\n",
       "      <td>62.16</td>\n",
       "      <td>...</td>\n",
       "      <td>10707.60</td>\n",
       "      <td>66.13</td>\n",
       "      <td>1382.95</td>\n",
       "      <td>10681.06</td>\n",
       "      <td>62.66</td>\n",
       "      <td>1351.26</td>\n",
       "      <td>10517.25</td>\n",
       "      <td>62.56</td>\n",
       "      <td>1365.98</td>\n",
       "      <td>10602.95</td>\n",
       "    </tr>\n",
       "    <tr>\n",
       "      <th>25</th>\n",
       "      <td>64.75</td>\n",
       "      <td>65.87</td>\n",
       "      <td>64.35</td>\n",
       "      <td>65.87</td>\n",
       "      <td>1.12</td>\n",
       "      <td>1.52</td>\n",
       "      <td>65.03</td>\n",
       "      <td>62.68</td>\n",
       "      <td>63.39</td>\n",
       "      <td>63.47</td>\n",
       "      <td>...</td>\n",
       "      <td>10656.03</td>\n",
       "      <td>67.47</td>\n",
       "      <td>1389.81</td>\n",
       "      <td>10707.60</td>\n",
       "      <td>66.13</td>\n",
       "      <td>1382.95</td>\n",
       "      <td>10681.06</td>\n",
       "      <td>62.66</td>\n",
       "      <td>1351.26</td>\n",
       "      <td>10517.25</td>\n",
       "    </tr>\n",
       "  </tbody>\n",
       "</table>\n",
       "<p>5 rows × 41 columns</p>\n",
       "</div>"
      ],
      "text/plain": [
       "     Open   High    Low  Close  Diff  High-low  Close(t-1)  Close(t-2)  \\\n",
       "21  63.31  63.71  62.84  63.47  0.16      0.87       62.16       59.33   \n",
       "22  63.47  63.83  62.28  63.39 -0.08      1.55       63.47       62.16   \n",
       "23  63.31  63.59  62.68  62.68 -0.63      0.91       63.39       63.47   \n",
       "24  62.72  65.39  62.68  65.03  2.31      2.71       62.68       63.39   \n",
       "25  64.75  65.87  64.35  65.87  1.12      1.52       65.03       62.68   \n",
       "\n",
       "    Close(t-3)  Close(t-4)  ...  DJIA_Close(t-2)  QQQ_Close(t-3)  \\\n",
       "21       63.43       63.79  ...         10602.95           66.00   \n",
       "22       59.33       63.43  ...         10517.25           62.56   \n",
       "23       62.16       59.33  ...         10681.06           62.66   \n",
       "24       63.47       62.16  ...         10707.60           66.13   \n",
       "25       63.39       63.47  ...         10656.03           67.47   \n",
       "\n",
       "    SnP_Close(t-3)  DJIA_Close(t-3)  QQQ_Close(t-4)  SnP_Close(t-4)  \\\n",
       "21         1400.14         10834.25           66.01         1409.28   \n",
       "22         1365.98         10602.95           66.00         1400.14   \n",
       "23         1351.26         10517.25           62.56         1365.98   \n",
       "24         1382.95         10681.06           62.66         1351.26   \n",
       "25         1389.81         10707.60           66.13         1382.95   \n",
       "\n",
       "    DJIA_Close(t-4)  QQQ_Close(t-5)  SnP_Close(t-5)  DJIA_Close(t-5)  \n",
       "21         10907.06           71.61         1431.87         10952.18  \n",
       "22         10834.25           66.01         1409.28         10907.06  \n",
       "23         10602.95           66.00         1400.14         10834.25  \n",
       "24         10517.25           62.56         1365.98         10602.95  \n",
       "25         10681.06           62.66         1351.26         10517.25  \n",
       "\n",
       "[5 rows x 41 columns]"
      ]
     },
     "execution_count": 6,
     "metadata": {},
     "output_type": "execute_result"
    }
   ],
   "source": [
    "df_Stock = prepare_lagged_features(df_Stock, lag_stock = 20, lag_index = 5)\n",
    "df_Stock.head()"
   ]
  },
  {
   "cell_type": "code",
   "execution_count": 7,
   "metadata": {},
   "outputs": [],
   "source": [
    "df_Stock = df_Stock.drop(columns=['Open', 'High', 'Low'])"
   ]
  },
  {
   "cell_type": "code",
   "execution_count": 8,
   "metadata": {},
   "outputs": [
    {
     "data": {
      "text/plain": [
       "(421, 38)"
      ]
     },
     "execution_count": 8,
     "metadata": {},
     "output_type": "execute_result"
    }
   ],
   "source": [
    "df_Stock= df_Stock.iloc[31:452,]\n",
    "df_Stock.shape"
   ]
  },
  {
   "cell_type": "code",
   "execution_count": 9,
   "metadata": {},
   "outputs": [],
   "source": [
    "train=df_Stock.iloc[:340,]\n",
    "test=df_Stock.iloc[340:,]"
   ]
  },
  {
   "cell_type": "code",
   "execution_count": 10,
   "metadata": {},
   "outputs": [
    {
     "data": {
      "text/plain": [
       "Index(['Close', 'Diff', 'High-low', 'Close(t-1)', 'Close(t-2)', 'Close(t-3)',\n",
       "       'Close(t-4)', 'Close(t-5)', 'Close(t-6)', 'Close(t-7)', 'Close(t-8)',\n",
       "       'Close(t-9)', 'Close(t-10)', 'Close(t-11)', 'Close(t-12)',\n",
       "       'Close(t-13)', 'Close(t-14)', 'Close(t-15)', 'Close(t-16)',\n",
       "       'Close(t-17)', 'Close(t-18)', 'Close(t-19)', 'Close(t-20)',\n",
       "       'QQQ_Close(t-1)', 'SnP_Close(t-1)', 'DJIA_Close(t-1)', 'QQQ_Close(t-2)',\n",
       "       'SnP_Close(t-2)', 'DJIA_Close(t-2)', 'QQQ_Close(t-3)', 'SnP_Close(t-3)',\n",
       "       'DJIA_Close(t-3)', 'QQQ_Close(t-4)', 'SnP_Close(t-4)',\n",
       "       'DJIA_Close(t-4)', 'QQQ_Close(t-5)', 'SnP_Close(t-5)',\n",
       "       'DJIA_Close(t-5)'],\n",
       "      dtype='object')"
      ]
     },
     "execution_count": 10,
     "metadata": {},
     "output_type": "execute_result"
    }
   ],
   "source": [
    "train.columns"
   ]
  },
  {
   "cell_type": "code",
   "execution_count": 11,
   "metadata": {},
   "outputs": [],
   "source": [
    "Y_train= train[['Close']]\n",
    "X_train=train[['Diff', 'High-low', 'Close(t-1)', 'Close(t-2)', 'Close(t-3)',\n",
    "       'Close(t-4)', 'Close(t-5)', 'Close(t-6)', 'Close(t-7)', 'Close(t-8)',\n",
    "       'Close(t-9)', 'Close(t-10)', 'Close(t-11)', 'Close(t-12)',\n",
    "       'Close(t-13)', 'Close(t-14)', 'Close(t-15)', 'Close(t-16)',\n",
    "       'Close(t-17)', 'Close(t-18)', 'Close(t-19)', 'Close(t-20)',\n",
    "       'QQQ_Close(t-1)', 'SnP_Close(t-1)', 'DJIA_Close(t-1)', 'QQQ_Close(t-2)',\n",
    "       'SnP_Close(t-2)', 'DJIA_Close(t-2)', 'QQQ_Close(t-3)', 'SnP_Close(t-3)',\n",
    "       'DJIA_Close(t-3)', 'QQQ_Close(t-4)', 'SnP_Close(t-4)',\n",
    "       'DJIA_Close(t-4)', 'QQQ_Close(t-5)', 'SnP_Close(t-5)',\n",
    "       'DJIA_Close(t-5)']]\n",
    "\n",
    "\n",
    "\n",
    "Y_test= test[['Close']]\n",
    "X_test= test[['Diff', 'High-low', 'Close(t-1)', 'Close(t-2)', 'Close(t-3)',\n",
    "       'Close(t-4)', 'Close(t-5)', 'Close(t-6)', 'Close(t-7)', 'Close(t-8)',\n",
    "       'Close(t-9)', 'Close(t-10)', 'Close(t-11)', 'Close(t-12)',\n",
    "       'Close(t-13)', 'Close(t-14)', 'Close(t-15)', 'Close(t-16)',\n",
    "       'Close(t-17)', 'Close(t-18)', 'Close(t-19)', 'Close(t-20)',\n",
    "       'QQQ_Close(t-1)', 'SnP_Close(t-1)', 'DJIA_Close(t-1)', 'QQQ_Close(t-2)',\n",
    "       'SnP_Close(t-2)', 'DJIA_Close(t-2)', 'QQQ_Close(t-3)', 'SnP_Close(t-3)',\n",
    "       'DJIA_Close(t-3)', 'QQQ_Close(t-4)', 'SnP_Close(t-4)',\n",
    "       'DJIA_Close(t-4)', 'QQQ_Close(t-5)', 'SnP_Close(t-5)',\n",
    "       'DJIA_Close(t-5)']]"
   ]
  },
  {
   "cell_type": "markdown",
   "metadata": {},
   "source": [
    "### Scale features for LSTM Training"
   ]
  },
  {
   "cell_type": "code",
   "execution_count": 12,
   "metadata": {},
   "outputs": [],
   "source": [
    "scaler = MinMaxScaler(feature_range=(0, 1))\n",
    "scaled_data = scaler.fit_transform(Y_train)"
   ]
  },
  {
   "cell_type": "code",
   "execution_count": 13,
   "metadata": {},
   "outputs": [],
   "source": [
    "x_train, y_train = [], []\n",
    "for i in range(60,len(Y_train)):\n",
    "    x_train.append(scaled_data[i-60:i,0])\n",
    "    y_train.append(scaled_data[i,0])\n",
    "x_train, y_train = np.array(x_train), np.array(y_train)\n",
    "x_train = np.reshape(x_train, (x_train.shape[0],x_train.shape[1],1))"
   ]
  },
  {
   "cell_type": "markdown",
   "metadata": {},
   "source": [
    "### Create and fit the LSTM network"
   ]
  },
  {
   "cell_type": "code",
   "execution_count": 14,
   "metadata": {},
   "outputs": [
    {
     "data": {
      "text/html": [
       "<pre style=\"white-space:pre;overflow-x:auto;line-height:normal;font-family:Menlo,'DejaVu Sans Mono',consolas,'Courier New',monospace\"><span style=\"font-weight: bold\">Model: \"sequential\"</span>\n",
       "</pre>\n"
      ],
      "text/plain": [
       "\u001b[1mModel: \"sequential\"\u001b[0m\n"
      ]
     },
     "metadata": {},
     "output_type": "display_data"
    },
    {
     "data": {
      "text/html": [
       "<pre style=\"white-space:pre;overflow-x:auto;line-height:normal;font-family:Menlo,'DejaVu Sans Mono',consolas,'Courier New',monospace\">┏━━━━━━━━━━━━━━━━━━━━━━━━━━━━━━━━━┳━━━━━━━━━━━━━━━━━━━━━━━━┳━━━━━━━━━━━━━━━┓\n",
       "┃<span style=\"font-weight: bold\"> Layer (type)                    </span>┃<span style=\"font-weight: bold\"> Output Shape           </span>┃<span style=\"font-weight: bold\">       Param # </span>┃\n",
       "┡━━━━━━━━━━━━━━━━━━━━━━━━━━━━━━━━━╇━━━━━━━━━━━━━━━━━━━━━━━━╇━━━━━━━━━━━━━━━┩\n",
       "│ lstm (<span style=\"color: #0087ff; text-decoration-color: #0087ff\">LSTM</span>)                     │ (<span style=\"color: #00d7ff; text-decoration-color: #00d7ff\">None</span>, <span style=\"color: #00af00; text-decoration-color: #00af00\">60</span>, <span style=\"color: #00af00; text-decoration-color: #00af00\">50</span>)         │        <span style=\"color: #00af00; text-decoration-color: #00af00\">10,400</span> │\n",
       "├─────────────────────────────────┼────────────────────────┼───────────────┤\n",
       "│ lstm_1 (<span style=\"color: #0087ff; text-decoration-color: #0087ff\">LSTM</span>)                   │ (<span style=\"color: #00d7ff; text-decoration-color: #00d7ff\">None</span>, <span style=\"color: #00af00; text-decoration-color: #00af00\">50</span>)             │        <span style=\"color: #00af00; text-decoration-color: #00af00\">20,200</span> │\n",
       "├─────────────────────────────────┼────────────────────────┼───────────────┤\n",
       "│ dense (<span style=\"color: #0087ff; text-decoration-color: #0087ff\">Dense</span>)                   │ (<span style=\"color: #00d7ff; text-decoration-color: #00d7ff\">None</span>, <span style=\"color: #00af00; text-decoration-color: #00af00\">1</span>)              │            <span style=\"color: #00af00; text-decoration-color: #00af00\">51</span> │\n",
       "└─────────────────────────────────┴────────────────────────┴───────────────┘\n",
       "</pre>\n"
      ],
      "text/plain": [
       "┏━━━━━━━━━━━━━━━━━━━━━━━━━━━━━━━━━┳━━━━━━━━━━━━━━━━━━━━━━━━┳━━━━━━━━━━━━━━━┓\n",
       "┃\u001b[1m \u001b[0m\u001b[1mLayer (type)                   \u001b[0m\u001b[1m \u001b[0m┃\u001b[1m \u001b[0m\u001b[1mOutput Shape          \u001b[0m\u001b[1m \u001b[0m┃\u001b[1m \u001b[0m\u001b[1m      Param #\u001b[0m\u001b[1m \u001b[0m┃\n",
       "┡━━━━━━━━━━━━━━━━━━━━━━━━━━━━━━━━━╇━━━━━━━━━━━━━━━━━━━━━━━━╇━━━━━━━━━━━━━━━┩\n",
       "│ lstm (\u001b[38;5;33mLSTM\u001b[0m)                     │ (\u001b[38;5;45mNone\u001b[0m, \u001b[38;5;34m60\u001b[0m, \u001b[38;5;34m50\u001b[0m)         │        \u001b[38;5;34m10,400\u001b[0m │\n",
       "├─────────────────────────────────┼────────────────────────┼───────────────┤\n",
       "│ lstm_1 (\u001b[38;5;33mLSTM\u001b[0m)                   │ (\u001b[38;5;45mNone\u001b[0m, \u001b[38;5;34m50\u001b[0m)             │        \u001b[38;5;34m20,200\u001b[0m │\n",
       "├─────────────────────────────────┼────────────────────────┼───────────────┤\n",
       "│ dense (\u001b[38;5;33mDense\u001b[0m)                   │ (\u001b[38;5;45mNone\u001b[0m, \u001b[38;5;34m1\u001b[0m)              │            \u001b[38;5;34m51\u001b[0m │\n",
       "└─────────────────────────────────┴────────────────────────┴───────────────┘\n"
      ]
     },
     "metadata": {},
     "output_type": "display_data"
    },
    {
     "data": {
      "text/html": [
       "<pre style=\"white-space:pre;overflow-x:auto;line-height:normal;font-family:Menlo,'DejaVu Sans Mono',consolas,'Courier New',monospace\"><span style=\"font-weight: bold\"> Total params: </span><span style=\"color: #00af00; text-decoration-color: #00af00\">30,651</span> (119.73 KB)\n",
       "</pre>\n"
      ],
      "text/plain": [
       "\u001b[1m Total params: \u001b[0m\u001b[38;5;34m30,651\u001b[0m (119.73 KB)\n"
      ]
     },
     "metadata": {},
     "output_type": "display_data"
    },
    {
     "data": {
      "text/html": [
       "<pre style=\"white-space:pre;overflow-x:auto;line-height:normal;font-family:Menlo,'DejaVu Sans Mono',consolas,'Courier New',monospace\"><span style=\"font-weight: bold\"> Trainable params: </span><span style=\"color: #00af00; text-decoration-color: #00af00\">30,651</span> (119.73 KB)\n",
       "</pre>\n"
      ],
      "text/plain": [
       "\u001b[1m Trainable params: \u001b[0m\u001b[38;5;34m30,651\u001b[0m (119.73 KB)\n"
      ]
     },
     "metadata": {},
     "output_type": "display_data"
    },
    {
     "data": {
      "text/html": [
       "<pre style=\"white-space:pre;overflow-x:auto;line-height:normal;font-family:Menlo,'DejaVu Sans Mono',consolas,'Courier New',monospace\"><span style=\"font-weight: bold\"> Non-trainable params: </span><span style=\"color: #00af00; text-decoration-color: #00af00\">0</span> (0.00 B)\n",
       "</pre>\n"
      ],
      "text/plain": [
       "\u001b[1m Non-trainable params: \u001b[0m\u001b[38;5;34m0\u001b[0m (0.00 B)\n"
      ]
     },
     "metadata": {},
     "output_type": "display_data"
    }
   ],
   "source": [
    "lstm = Sequential()\n",
    "lstm.add(LSTM(units=50, return_sequences=True, input_shape=(x_train.shape[1],1)))\n",
    "lstm.add(LSTM(units=50))\n",
    "lstm.add(Dense(1))\n",
    "\n",
    "lstm.compile(loss='mean_squared_error', optimizer='adam')\n",
    "lstm.summary()\n"
   ]
  },
  {
   "cell_type": "code",
   "execution_count": 15,
   "metadata": {},
   "outputs": [
    {
     "name": "stdout",
     "output_type": "stream",
     "text": [
      "Epoch 1/25\n",
      "56/56 - 3s - 57ms/step - loss: 0.0359\n",
      "Epoch 2/25\n",
      "56/56 - 1s - 16ms/step - loss: 0.0096\n",
      "Epoch 3/25\n",
      "56/56 - 1s - 17ms/step - loss: 0.0072\n",
      "Epoch 4/25\n",
      "56/56 - 1s - 16ms/step - loss: 0.0067\n",
      "Epoch 5/25\n",
      "56/56 - 1s - 16ms/step - loss: 0.0064\n",
      "Epoch 6/25\n",
      "56/56 - 1s - 19ms/step - loss: 0.0056\n",
      "Epoch 7/25\n",
      "56/56 - 1s - 24ms/step - loss: 0.0055\n",
      "Epoch 8/25\n",
      "56/56 - 1s - 22ms/step - loss: 0.0050\n",
      "Epoch 9/25\n",
      "56/56 - 2s - 28ms/step - loss: 0.0049\n",
      "Epoch 10/25\n",
      "56/56 - 2s - 36ms/step - loss: 0.0047\n",
      "Epoch 11/25\n",
      "56/56 - 1s - 24ms/step - loss: 0.0043\n",
      "Epoch 12/25\n",
      "56/56 - 1s - 23ms/step - loss: 0.0044\n",
      "Epoch 13/25\n",
      "56/56 - 1s - 23ms/step - loss: 0.0043\n",
      "Epoch 14/25\n",
      "56/56 - 1s - 22ms/step - loss: 0.0040\n",
      "Epoch 15/25\n",
      "56/56 - 1s - 21ms/step - loss: 0.0036\n",
      "Epoch 16/25\n",
      "56/56 - 1s - 21ms/step - loss: 0.0042\n",
      "Epoch 17/25\n",
      "56/56 - 1s - 21ms/step - loss: 0.0043\n",
      "Epoch 18/25\n",
      "56/56 - 1s - 21ms/step - loss: 0.0034\n",
      "Epoch 19/25\n",
      "56/56 - 1s - 21ms/step - loss: 0.0032\n",
      "Epoch 20/25\n",
      "56/56 - 1s - 23ms/step - loss: 0.0035\n",
      "Epoch 21/25\n",
      "56/56 - 1s - 22ms/step - loss: 0.0034\n",
      "Epoch 22/25\n",
      "56/56 - 1s - 20ms/step - loss: 0.0030\n",
      "Epoch 23/25\n",
      "56/56 - 1s - 21ms/step - loss: 0.0031\n",
      "Epoch 24/25\n",
      "56/56 - 1s - 20ms/step - loss: 0.0028\n",
      "Epoch 25/25\n",
      "56/56 - 1s - 21ms/step - loss: 0.0027\n"
     ]
    }
   ],
   "source": [
    "history_lstm = lstm.fit(x_train, y_train, epochs=25, batch_size=5, verbose=2)"
   ]
  },
  {
   "cell_type": "code",
   "execution_count": 16,
   "metadata": {},
   "outputs": [
    {
     "data": {
      "text/plain": [
       "dict_keys(['loss'])"
      ]
     },
     "execution_count": 16,
     "metadata": {},
     "output_type": "execute_result"
    }
   ],
   "source": [
    "history_lstm.history.keys()"
   ]
  },
  {
   "cell_type": "code",
   "execution_count": 17,
   "metadata": {},
   "outputs": [
    {
     "data": {
      "image/png": "[encoded data removed]",
      "text/plain": [
       "<Figure size 640x480 with 1 Axes>"
      ]
     },
     "metadata": {},
     "output_type": "display_data"
    }
   ],
   "source": [
    "plt.plot(history_lstm.history['loss'], label='train')\n",
    "#plt.plot(history_lstm.history['val_loss'], label='test')\n",
    "plt.legend()\n",
    "plt.show()"
   ]
  },
  {
   "cell_type": "code",
   "execution_count": 18,
   "metadata": {},
   "outputs": [],
   "source": [
    "new_df_Stock = df_Stock['Close']"
   ]
  },
  {
   "cell_type": "code",
   "execution_count": 19,
   "metadata": {},
   "outputs": [],
   "source": [
    "#predicting 246 values, using past 60 from the train data\n",
    "inputs = new_df_Stock[len(new_df_Stock) - len(Y_test) - 60:].values\n",
    "inputs = inputs.reshape(-1,1)\n",
    "inputs  = scaler.transform(inputs)"
   ]
  },
  {
   "cell_type": "code",
   "execution_count": 20,
   "metadata": {},
   "outputs": [
    {
     "name": "stdout",
     "output_type": "stream",
     "text": [
      "\u001b[1m3/3\u001b[0m \u001b[32m━━━━━━━━━━━━━━━━━━━━\u001b[0m\u001b[37m\u001b[0m \u001b[1m1s\u001b[0m 166ms/step\n"
     ]
    }
   ],
   "source": [
    "X_test = []\n",
    "for i in range(60,inputs.shape[0]):\n",
    "    X_test.append(inputs[i-60:i,0])\n",
    "X_test = np.array(X_test)\n",
    "\n",
    "X_test = np.reshape(X_test, (X_test.shape[0],X_test.shape[1],1))\n",
    "closing_price = lstm.predict(X_test)\n",
    "closing_price = scaler.inverse_transform(closing_price)"
   ]
  },
  {
   "cell_type": "code",
   "execution_count": 21,
   "metadata": {},
   "outputs": [
    {
     "data": {
      "text/plain": [
       "1.7393728042132321"
      ]
     },
     "execution_count": 21,
     "metadata": {},
     "output_type": "execute_result"
    }
   ],
   "source": [
    "rms=np.sqrt(np.mean(np.power((Y_test-closing_price),2)))\n",
    "rms"
   ]
  },
  {
   "cell_type": "code",
   "execution_count": 22,
   "metadata": {},
   "outputs": [
    {
     "data": {
      "text/plain": [
       "array([[52.011307],\n",
       "       [53.080883],\n",
       "       [53.874363],\n",
       "       [54.553673],\n",
       "       [55.04768 ],\n",
       "       [55.090176],\n",
       "       [54.795967],\n",
       "       [54.614826],\n",
       "       [54.586582],\n",
       "       [54.366444],\n",
       "       [53.968735],\n",
       "       [53.552444],\n",
       "       [53.37387 ],\n",
       "       [52.9763  ],\n",
       "       [52.220337],\n",
       "       [51.782833],\n",
       "       [51.75973 ],\n",
       "       [51.708717],\n",
       "       [51.433937],\n",
       "       [50.918503],\n",
       "       [50.255318],\n",
       "       [49.586506],\n",
       "       [49.217495],\n",
       "       [49.113743],\n",
       "       [49.265793],\n",
       "       [49.288628],\n",
       "       [48.884155],\n",
       "       [48.191254],\n",
       "       [47.196438],\n",
       "       [46.439297],\n",
       "       [45.788128],\n",
       "       [45.467987],\n",
       "       [45.55313 ],\n",
       "       [45.79487 ],\n",
       "       [45.52002 ],\n",
       "       [45.207943],\n",
       "       [45.16856 ],\n",
       "       [45.603477],\n",
       "       [45.88671 ],\n",
       "       [45.846264],\n",
       "       [45.583084],\n",
       "       [45.364872],\n",
       "       [45.18694 ],\n",
       "       [45.2625  ],\n",
       "       [45.199974],\n",
       "       [45.28097 ],\n",
       "       [45.57163 ],\n",
       "       [45.88893 ],\n",
       "       [45.733505],\n",
       "       [45.257618],\n",
       "       [45.034275],\n",
       "       [44.938828],\n",
       "       [44.583466],\n",
       "       [44.70191 ],\n",
       "       [45.08678 ],\n",
       "       [45.342037],\n",
       "       [45.240864],\n",
       "       [44.9758  ],\n",
       "       [44.496174],\n",
       "       [44.220123],\n",
       "       [44.23713 ],\n",
       "       [44.645008],\n",
       "       [45.17678 ],\n",
       "       [45.64884 ],\n",
       "       [46.022736],\n",
       "       [46.668453],\n",
       "       [47.52288 ],\n",
       "       [48.702885],\n",
       "       [50.26502 ],\n",
       "       [51.42461 ],\n",
       "       [52.110374],\n",
       "       [52.6427  ],\n",
       "       [52.70656 ],\n",
       "       [52.442673],\n",
       "       [51.90814 ],\n",
       "       [51.131176],\n",
       "       [50.576077],\n",
       "       [50.032005],\n",
       "       [49.178226],\n",
       "       [48.626255],\n",
       "       [48.077652]], dtype=float32)"
      ]
     },
     "execution_count": 22,
     "metadata": {},
     "output_type": "execute_result"
    }
   ],
   "source": [
    "closing_price"
   ]
  },
  {
   "cell_type": "code",
   "execution_count": 23,
   "metadata": {},
   "outputs": [
    {
     "data": {
      "text/plain": [
       "(81, 1)"
      ]
     },
     "execution_count": 23,
     "metadata": {},
     "output_type": "execute_result"
    }
   ],
   "source": [
    "closing_price.shape"
   ]
  },
  {
   "cell_type": "code",
   "execution_count": 24,
   "metadata": {},
   "outputs": [
    {
     "data": {
      "text/html": [
       "<div>\n",
       "<style scoped>\n",
       "    .dataframe tbody tr th:only-of-type {\n",
       "        vertical-align: middle;\n",
       "    }\n",
       "\n",
       "    .dataframe tbody tr th {\n",
       "        vertical-align: top;\n",
       "    }\n",
       "\n",
       "    .dataframe thead th {\n",
       "        text-align: right;\n",
       "    }\n",
       "</style>\n",
       "<table border=\"1\" class=\"dataframe\">\n",
       "  <thead>\n",
       "    <tr style=\"text-align: right;\">\n",
       "      <th></th>\n",
       "      <th>Close</th>\n",
       "    </tr>\n",
       "  </thead>\n",
       "  <tbody>\n",
       "    <tr>\n",
       "      <th>392</th>\n",
       "      <td>54.98</td>\n",
       "    </tr>\n",
       "    <tr>\n",
       "      <th>393</th>\n",
       "      <td>54.35</td>\n",
       "    </tr>\n",
       "    <tr>\n",
       "      <th>394</th>\n",
       "      <td>54.96</td>\n",
       "    </tr>\n",
       "    <tr>\n",
       "      <th>395</th>\n",
       "      <td>55.11</td>\n",
       "    </tr>\n",
       "    <tr>\n",
       "      <th>396</th>\n",
       "      <td>54.32</td>\n",
       "    </tr>\n",
       "    <tr>\n",
       "      <th>...</th>\n",
       "      <td>...</td>\n",
       "    </tr>\n",
       "    <tr>\n",
       "      <th>468</th>\n",
       "      <td>48.59</td>\n",
       "    </tr>\n",
       "    <tr>\n",
       "      <th>469</th>\n",
       "      <td>46.64</td>\n",
       "    </tr>\n",
       "    <tr>\n",
       "      <th>470</th>\n",
       "      <td>47.53</td>\n",
       "    </tr>\n",
       "    <tr>\n",
       "      <th>471</th>\n",
       "      <td>46.53</td>\n",
       "    </tr>\n",
       "    <tr>\n",
       "      <th>472</th>\n",
       "      <td>47.18</td>\n",
       "    </tr>\n",
       "  </tbody>\n",
       "</table>\n",
       "<p>81 rows × 1 columns</p>\n",
       "</div>"
      ],
      "text/plain": [
       "     Close\n",
       "392  54.98\n",
       "393  54.35\n",
       "394  54.96\n",
       "395  55.11\n",
       "396  54.32\n",
       "..     ...\n",
       "468  48.59\n",
       "469  46.64\n",
       "470  47.53\n",
       "471  46.53\n",
       "472  47.18\n",
       "\n",
       "[81 rows x 1 columns]"
      ]
     },
     "execution_count": 24,
     "metadata": {},
     "output_type": "execute_result"
    }
   ],
   "source": [
    "Y_test"
   ]
  },
  {
   "cell_type": "code",
   "execution_count": 25,
   "metadata": {},
   "outputs": [],
   "source": [
    "def get_mape(y_true, y_pred): \n",
    "        \"\"\"\n",
    "        Compute mean absolute percentage error (MAPE)\n",
    "        \"\"\"\n",
    "        y_true, y_pred = np.array(y_true), np.array(y_pred)\n",
    "        return np.mean(np.abs((y_true - y_pred) / y_true)) * 100\n"
   ]
  },
  {
   "cell_type": "code",
   "execution_count": 26,
   "metadata": {},
   "outputs": [
    {
     "name": "stdout",
     "output_type": "stream",
     "text": [
      "R2 -  0.76\n",
      "MAPE -  8.4\n",
      "RMSE - 1.74\n",
      "MAE -  1.47\n"
     ]
    }
   ],
   "source": [
    "print('R2 - ',round(metrics.r2_score(Y_test.Close,closing_price),2))\n",
    "print('MAPE - ', round(get_mape(Y_test.Close,closing_price), 2))\n",
    "print('RMSE -', round(np.sqrt(metrics.mean_squared_error(Y_test.Close,closing_price)),2))\n",
    "print('MAE - ', round(metrics.mean_absolute_error(Y_test.Close,closing_price),2))\n"
   ]
  },
  {
   "cell_type": "code",
   "execution_count": 27,
   "metadata": {},
   "outputs": [
    {
     "data": {
      "text/plain": [
       "[<matplotlib.lines.Line2D at 0x257b2699090>,\n",
       " <matplotlib.lines.Line2D at 0x257b26b5390>]"
      ]
     },
     "execution_count": 27,
     "metadata": {},
     "output_type": "execute_result"
    },
    {
     "data": {
      "image/png": "[encoded data removed]",
      "text/plain": [
       "<Figure size 640x480 with 1 Axes>"
      ]
     },
     "metadata": {},
     "output_type": "display_data"
    }
   ],
   "source": [
    "#for plotting\n",
    "test_result=Y_test\n",
    "test_result['predict']=closing_price\n",
    "plt.plot(train['Close'])\n",
    "plt.plot(test_result[['Close','predict']])"
   ]
  },
  {
   "cell_type": "markdown",
   "metadata": {},
   "source": [
    "### Conclusion"
   ]
  },
  {
   "cell_type": "markdown",
   "metadata": {},
   "source": [
    "We got Amazing results by using a 60 day lookup window for Previos Closing Prices, Index funds and by considering the difference between the High low prices.\n",
    "\n",
    "- R2 -  0.74\n",
    "- MAPE -  8.41\n",
    "- RMSE - 1.81\n",
    "- MAE -  1.5"
   ]
  },
  {
   "cell_type": "code",
   "execution_count": null,
   "metadata": {},
   "outputs": [],
   "source": []
  }
 ],
 "metadata": {
  "kernelspec": {
   "display_name": "Python 3",
   "language": "python",
   "name": "python3"
  },
  "language_info": {
   "codemirror_mode": {
    "name": "ipython",
    "version": 3
   },
   "file_extension": ".py",
   "mimetype": "text/x-python",
   "name": "python",
   "nbconvert_exporter": "python",
   "pygments_lexer": "ipython3",
   "version": "3.11.2"
  }
 },
 "nbformat": 4,
 "nbformat_minor": 2
}
